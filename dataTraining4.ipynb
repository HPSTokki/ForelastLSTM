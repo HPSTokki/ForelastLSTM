{
 "cells": [
  {
   "cell_type": "code",
   "execution_count": 103,
   "id": "f529d8f3",
   "metadata": {},
   "outputs": [],
   "source": [
    "import pandas as pd\n",
    "import numpy as np\n",
    "from sklearn.preprocessing import MinMaxScaler\n",
    "from tensorflow.keras.models import Sequential, load_model\n",
    "from tensorflow.keras.layers import LSTM, Dense, InputLayer, Dropout, BatchNormalization\n",
    "from tensorflow.keras.optimizers import Adam\n",
    "from tensorflow.keras.callbacks import EarlyStopping, ReduceLROnPlateau, ModelCheckpoint\n",
    "from tensorflow.keras.regularizers import l2\n",
    "import os\n",
    "from supabase import create_client\n",
    "from dotenv import load_dotenv"
   ]
  },
  {
   "cell_type": "code",
   "execution_count": 104,
   "id": "21e1b690",
   "metadata": {},
   "outputs": [
    {
     "data": {
      "text/plain": [
       "True"
      ]
     },
     "execution_count": 104,
     "metadata": {},
     "output_type": "execute_result"
    }
   ],
   "source": [
    "load_dotenv()"
   ]
  },
  {
   "cell_type": "code",
   "execution_count": 105,
   "id": "804c0cd1",
   "metadata": {},
   "outputs": [],
   "source": [
    "supabase = create_client(os.getenv('SUPABASE_URL'), os.getenv('SUPABASE_KEY'))"
   ]
  },
  {
   "cell_type": "code",
   "execution_count": 106,
   "id": "426ee8ed",
   "metadata": {},
   "outputs": [],
   "source": [
    "features = ['temp', 'humidity', 'precip', 'windspeed']\n",
    "cities = ['Caloocan', 'Las Piñas', 'Makati', 'Malabon', 'Mandaluyong', \n",
    "          'Manila', 'Marikina', 'Muntinlupa', 'Navotas', 'Parañaque',\n",
    "          'Pasay', 'Pasig', 'Quezon', 'San Juan', 'Taguig', 'Valenzuela']"
   ]
  },
  {
   "cell_type": "code",
   "execution_count": 107,
   "id": "06f31832",
   "metadata": {},
   "outputs": [],
   "source": [
    "def get_table_name(city):\n",
    "    \"\"\"Convert city name to table name format\"\"\"\n",
    "    city = city.lower().replace(' ', '_').replace('ñ', 'n')\n",
    "    if city == \"las_piñas\": city = \"las_pinas\"\n",
    "    if city == \"marikina\": city = \"markina\"\n",
    "    if city == \"parañaque\": city = \"paramaque\"\n",
    "    return f\"{city}_city_weather\""
   ]
  },
  {
   "cell_type": "code",
   "execution_count": 108,
   "id": "3bd7f204",
   "metadata": {},
   "outputs": [],
   "source": [
    "def fetch_city_data(city):\n",
    "    \"\"\"Fetch weather data from Supabase for a city\"\"\"\n",
    "    table_name = get_table_name(city)\n",
    "    response = supabase.table(table_name).select(\"*\").execute()\n",
    "    df = pd.DataFrame(response.data)\n",
    "    df['datetime'] = pd.to_datetime(df['datetime'])\n",
    "    df.set_index('datetime', inplace=True)\n",
    "    return df[features].copy().ffill()"
   ]
  },
  {
   "cell_type": "code",
   "execution_count": 109,
   "id": "ddd00163",
   "metadata": {},
   "outputs": [],
   "source": [
    "def create_sequences(data, window_size=21, forecast_size=7):\n",
    "    \"\"\"Create training sequences from time series data\"\"\"\n",
    "    X, y = [], []\n",
    "    for i in range(len(data) - window_size - forecast_size + 1):\n",
    "        X.append(data[i:i + window_size])\n",
    "        y.append(data[i + window_size:i + window_size + forecast_size])\n",
    "    return np.array(X), np.array(y)"
   ]
  },
  {
   "cell_type": "code",
   "execution_count": 110,
   "id": "e8017f51",
   "metadata": {},
   "outputs": [],
   "source": [
    "def build_model(input_shape):\n",
    "    \"\"\"Build LSTM model architecture\"\"\"\n",
    "    model = Sequential([\n",
    "        InputLayer(input_shape),\n",
    "        LSTM(128, return_sequences=True, kernel_regularizer=l2(0.01)),\n",
    "        BatchNormalization(),\n",
    "        Dropout(0.2),\n",
    "        LSTM(64, kernel_regularizer=l2(0.01)),\n",
    "        BatchNormalization(),\n",
    "        Dense(64, activation='relu'),\n",
    "        Dense(32, activation='relu'),\n",
    "        Dense(4 * 7)  # 4 features * 3 days\n",
    "    ])\n",
    "    optimizer = Adam(learning_rate=0.001, clipnorm=1.0)\n",
    "    model.compile(loss='mse', optimizer=optimizer, metrics=['mae'])\n",
    "    return model"
   ]
  },
  {
   "cell_type": "code",
   "execution_count": 111,
   "id": "1314211d",
   "metadata": {},
   "outputs": [],
   "source": [
    "def train_model(city, df):\n",
    "    \"\"\"Train model for a specific city\"\"\"\n",
    "    scaler = MinMaxScaler(feature_range=(0, 1))\n",
    "    scaled_data = scaler.fit_transform(df)\n",
    "    \n",
    "    X, y = create_sequences(scaled_data)\n",
    "    X = X.reshape((X.shape[0], X.shape[1], len(features)))\n",
    "    y = y.reshape(y.shape[0], -1)\n",
    "    \n",
    "    model = build_model((X.shape[1], X.shape[2]))\n",
    "    \n",
    "    callbacks = [\n",
    "        EarlyStopping(monitor='val_loss', patience=15, min_delta=0.001),\n",
    "        ReduceLROnPlateau(monitor='val_loss', factor=0.5, patience=5),\n",
    "        ModelCheckpoint(f'weatherModels/{city}_best_model.keras', save_best_only=True)\n",
    "    ]\n",
    "    \n",
    "    history = model.fit(\n",
    "        X, y,\n",
    "        epochs=100,\n",
    "        batch_size=32,\n",
    "        validation_split=0.1,\n",
    "        callbacks=callbacks,\n",
    "        verbose=0\n",
    "    )\n",
    "    \n",
    "    return model, scaler"
   ]
  },
  {
   "cell_type": "code",
   "execution_count": 112,
   "id": "e0d8344e",
   "metadata": {},
   "outputs": [],
   "source": [
    "def predict_future(model, data, scaler, window_size=21, forecast_days=7):\n",
    "    \"\"\"Generate future predictions\"\"\"\n",
    "    last_window = scaler.transform(data[-window_size:])\n",
    "    X_pred = last_window.reshape(1, window_size, len(features))\n",
    "    pred = model.predict(X_pred)[0]\n",
    "    pred = pred.reshape(forecast_days, len(features))\n",
    "    return scaler.inverse_transform(pred)"
   ]
  },
  {
   "cell_type": "code",
   "execution_count": 113,
   "id": "0de1fe06",
   "metadata": {},
   "outputs": [],
   "source": [
    "def save_forecast_to_supabase(city, forecast_df):\n",
    "    \"\"\"Save forecast back to Supabase\"\"\"\n",
    "    table_name = f\"{get_table_name(city).replace('_weather', '_forecast')}\"\n",
    "    \n",
    "    # Convert datetime to ISO format strings\n",
    "    forecast_df = forecast_df.copy()\n",
    "    forecast_df['datetime'] = pd.to_datetime(forecast_df['datetime'])\n",
    "    forecast_df['datetime'] = forecast_df['datetime'].dt.strftime('%Y-%m-%d')\n",
    "    \n",
    "    records = forecast_df.to_dict('records')\n",
    "    \n",
    "    try:\n",
    "        # Delete old forecasts for these dates\n",
    "        dates = forecast_df['datetime'].tolist()\n",
    "        supabase.table(table_name).delete().in_('datetime', dates).execute()\n",
    "        \n",
    "        # Insert new forecasts\n",
    "        response = supabase.table(table_name).upsert(records).execute()\n",
    "        return response\n",
    "    except Exception as e:\n",
    "        print(f\"Supabase save error for {city}: {str(e)}\")\n",
    "        return None"
   ]
  },
  {
   "cell_type": "code",
   "execution_count": 114,
   "id": "b5b37af1",
   "metadata": {},
   "outputs": [],
   "source": [
    "def process_city(city):\n",
    "    \"\"\"Full processing pipeline for a city\"\"\"\n",
    "    print(f\"\\nProcessing {city}...\")\n",
    "    \n",
    "    try:\n",
    "        # 1. Fetch and validate data\n",
    "        df = fetch_city_data(city)\n",
    "        if len(df) < 50:\n",
    "            print(f\"⚠ Not enough data for {city} (only {len(df)} records)\")\n",
    "            return None\n",
    "            \n",
    "        # 2. Train model\n",
    "        model, scaler = train_model(city, df)\n",
    "        \n",
    "        # 3. Make predictions\n",
    "        forecast_values = predict_future(model, df.values, scaler)\n",
    "        \n",
    "        # Get current date\n",
    "        today = pd.Timestamp.now().normalize()\n",
    "        \n",
    "        # 4. Create date range (today + next 7 days)\n",
    "        forecast_dates = pd.date_range(\n",
    "            start=today,\n",
    "            periods=8  # Today + 7 days\n",
    "        )\n",
    "        \n",
    "        # Get today's actual weather (last available data)\n",
    "        today_weather = df.iloc[-1][features].values if not df.empty else [np.nan]*len(features)\n",
    "        \n",
    "        # Combine today's actual with 7-day forecast\n",
    "        all_values = np.vstack([today_weather, forecast_values[:7]])\n",
    "        \n",
    "        # Create DataFrame\n",
    "        forecast_df = pd.DataFrame(\n",
    "            all_values,\n",
    "            columns=features,\n",
    "            index=forecast_dates\n",
    "        ).reset_index()\n",
    "        \n",
    "        forecast_df.insert(0, 'name', f\"{city} City, National Capital Region, Philippines\")\n",
    "        forecast_df.rename(columns={'index': 'datetime'}, inplace=True)\n",
    "        \n",
    "        # Convert datetime to string format\n",
    "        forecast_df['datetime'] = forecast_df['datetime'].dt.strftime('%Y-%m-%d')\n",
    "        \n",
    "        # 5. Save to Supabase\n",
    "        if save_forecast_to_supabase(city, forecast_df):\n",
    "            print(f\"✓ {city}: Weather data saved successfully\")\n",
    "            print(\"\\nWeather Report:\")\n",
    "            print(forecast_df[['datetime'] + features].to_string(index=False))\n",
    "            return forecast_df\n",
    "        return None\n",
    "        \n",
    "    except Exception as e:\n",
    "        print(f\"✗ Error processing {city}: {str(e)}\")\n",
    "        return None"
   ]
  },
  {
   "cell_type": "code",
   "execution_count": 115,
   "id": "60bedc7e",
   "metadata": {},
   "outputs": [],
   "source": [
    "def main():\n",
    "    os.makedirs(\"weatherModels\", exist_ok=True)\n",
    "    \n",
    "    all_forecasts = []\n",
    "    for city in cities:\n",
    "        forecast = process_city(city)\n",
    "        if forecast is not None:\n",
    "            all_forecasts.append(forecast)\n",
    "    \n",
    "    if all_forecasts:\n",
    "        combined = pd.concat(all_forecasts)\n",
    "        print(\"\\nAll forecasts completed successfully!\")\n",
    "        print(combined[['name', 'datetime'] + features].to_string(index=False))\n",
    "    else:\n",
    "        print(\"\\nNo forecasts were generated\")"
   ]
  },
  {
   "cell_type": "code",
   "execution_count": 116,
   "id": "cf36e574",
   "metadata": {},
   "outputs": [
    {
     "name": "stdout",
     "output_type": "stream",
     "text": [
      "\n",
      "Processing Caloocan...\n",
      "⚠ Not enough data for Caloocan (only 3 records)\n",
      "\n",
      "Processing Las Piñas...\n",
      "⚠ Not enough data for Las Piñas (only 1 records)\n",
      "\n",
      "Processing Makati...\n",
      "⚠ Not enough data for Makati (only 1 records)\n",
      "\n",
      "Processing Malabon...\n",
      "⚠ Not enough data for Malabon (only 1 records)\n",
      "\n",
      "Processing Mandaluyong...\n",
      "⚠ Not enough data for Mandaluyong (only 1 records)\n",
      "\n",
      "Processing Manila...\n",
      "⚠ Not enough data for Manila (only 1 records)\n",
      "\n",
      "Processing Marikina...\n",
      "⚠ Not enough data for Marikina (only 1 records)\n",
      "\n",
      "Processing Muntinlupa...\n",
      "⚠ Not enough data for Muntinlupa (only 1 records)\n",
      "\n",
      "Processing Navotas...\n",
      "⚠ Not enough data for Navotas (only 1 records)\n",
      "\n",
      "Processing Parañaque...\n",
      "⚠ Not enough data for Parañaque (only 1 records)\n",
      "\n",
      "Processing Pasay...\n",
      "⚠ Not enough data for Pasay (only 1 records)\n",
      "\n",
      "Processing Pasig...\n",
      "⚠ Not enough data for Pasig (only 1 records)\n",
      "\n",
      "Processing Quezon...\n"
     ]
    },
    {
     "name": "stderr",
     "output_type": "stream",
     "text": [
      "c:\\Users\\User\\Desktop\\ForeLastDataTraining\\venv\\Lib\\site-packages\\sklearn\\utils\\validation.py:2739: UserWarning: X does not have valid feature names, but MinMaxScaler was fitted with feature names\n",
      "  warnings.warn(\n"
     ]
    },
    {
     "name": "stdout",
     "output_type": "stream",
     "text": [
      "\u001b[1m1/1\u001b[0m \u001b[32m━━━━━━━━━━━━━━━━━━━━\u001b[0m\u001b[37m\u001b[0m \u001b[1m1s\u001b[0m 698ms/step\n",
      "✓ Quezon: Weather data saved successfully\n",
      "\n",
      "Weather Report:\n",
      "  datetime      temp  humidity    precip  windspeed\n",
      "2025-04-17 26.300000 91.000000 18.578000  14.300000\n",
      "2025-04-18 27.658440 89.223633 31.286837  24.943954\n",
      "2025-04-19 27.575066 87.845558 32.650993  24.683472\n",
      "2025-04-20 27.694912 88.933441 26.851156  24.946659\n",
      "2025-04-21 27.547239 88.070374 19.399164  23.088264\n",
      "2025-04-22 27.615335 87.523300 23.388985  23.950081\n",
      "2025-04-23 27.586479 88.021523 18.349201  18.582047\n",
      "2025-04-24 27.651106 87.275391 24.464291  25.399431\n",
      "\n",
      "Processing San Juan...\n",
      "⚠ Not enough data for San Juan (only 1 records)\n",
      "\n",
      "Processing Taguig...\n",
      "⚠ Not enough data for Taguig (only 2 records)\n",
      "\n",
      "Processing Valenzuela...\n",
      "⚠ Not enough data for Valenzuela (only 1 records)\n",
      "\n",
      "All forecasts completed successfully!\n",
      "                                             name   datetime      temp  humidity    precip  windspeed\n",
      "Quezon City, National Capital Region, Philippines 2025-04-17 26.300000 91.000000 18.578000  14.300000\n",
      "Quezon City, National Capital Region, Philippines 2025-04-18 27.658440 89.223633 31.286837  24.943954\n",
      "Quezon City, National Capital Region, Philippines 2025-04-19 27.575066 87.845558 32.650993  24.683472\n",
      "Quezon City, National Capital Region, Philippines 2025-04-20 27.694912 88.933441 26.851156  24.946659\n",
      "Quezon City, National Capital Region, Philippines 2025-04-21 27.547239 88.070374 19.399164  23.088264\n",
      "Quezon City, National Capital Region, Philippines 2025-04-22 27.615335 87.523300 23.388985  23.950081\n",
      "Quezon City, National Capital Region, Philippines 2025-04-23 27.586479 88.021523 18.349201  18.582047\n",
      "Quezon City, National Capital Region, Philippines 2025-04-24 27.651106 87.275391 24.464291  25.399431\n"
     ]
    }
   ],
   "source": [
    "if __name__ == \"__main__\":\n",
    "    main()"
   ]
  },
  {
   "cell_type": "code",
   "execution_count": null,
   "id": "1da6fa78",
   "metadata": {},
   "outputs": [],
   "source": []
  }
 ],
 "metadata": {
  "kernelspec": {
   "display_name": "venv",
   "language": "python",
   "name": "python3"
  },
  "language_info": {
   "codemirror_mode": {
    "name": "ipython",
    "version": 3
   },
   "file_extension": ".py",
   "mimetype": "text/x-python",
   "name": "python",
   "nbconvert_exporter": "python",
   "pygments_lexer": "ipython3",
   "version": "3.11.0"
  }
 },
 "nbformat": 4,
 "nbformat_minor": 5
}
