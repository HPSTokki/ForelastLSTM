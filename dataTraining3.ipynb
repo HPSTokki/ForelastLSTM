{
 "cells": [
  {
   "cell_type": "code",
   "execution_count": 44,
   "id": "490a5de5",
   "metadata": {},
   "outputs": [],
   "source": [
    "import pandas as pd\n",
    "import numpy as np\n",
    "from sklearn.preprocessing import MinMaxScaler\n",
    "from tensorflow.keras.models import Sequential, load_model\n",
    "from tensorflow.keras.layers import LSTM, Dense, InputLayer, Dropout, BatchNormalization\n",
    "from tensorflow.keras.optimizers import Adam\n",
    "from tensorflow.keras.callbacks import EarlyStopping, ReduceLROnPlateau, ModelCheckpoint\n",
    "from tensorflow.keras.regularizers import l2\n",
    "import os"
   ]
  },
  {
   "cell_type": "code",
   "execution_count": 45,
   "id": "d153edd9",
   "metadata": {},
   "outputs": [
    {
     "name": "stderr",
     "output_type": "stream",
     "text": [
      "C:\\Users\\User\\AppData\\Local\\Temp\\ipykernel_5404\\3317473034.py:5: FutureWarning: DataFrame.fillna with 'method' is deprecated and will raise in a future version. Use obj.ffill() or obj.bfill() instead.\n",
      "  df = df[features].copy().fillna(method='ffill')\n"
     ]
    },
    {
     "data": {
      "text/html": [
       "<div>\n",
       "<style scoped>\n",
       "    .dataframe tbody tr th:only-of-type {\n",
       "        vertical-align: middle;\n",
       "    }\n",
       "\n",
       "    .dataframe tbody tr th {\n",
       "        vertical-align: top;\n",
       "    }\n",
       "\n",
       "    .dataframe thead th {\n",
       "        text-align: right;\n",
       "    }\n",
       "</style>\n",
       "<table border=\"1\" class=\"dataframe\">\n",
       "  <thead>\n",
       "    <tr style=\"text-align: right;\">\n",
       "      <th></th>\n",
       "      <th>temp</th>\n",
       "      <th>humidity</th>\n",
       "      <th>precip</th>\n",
       "      <th>windspeed</th>\n",
       "    </tr>\n",
       "    <tr>\n",
       "      <th>datetime</th>\n",
       "      <th></th>\n",
       "      <th></th>\n",
       "      <th></th>\n",
       "      <th></th>\n",
       "    </tr>\n",
       "  </thead>\n",
       "  <tbody>\n",
       "    <tr>\n",
       "      <th>2025-04-11</th>\n",
       "      <td>31.3</td>\n",
       "      <td>67.3</td>\n",
       "      <td>0.3</td>\n",
       "      <td>18.2</td>\n",
       "    </tr>\n",
       "    <tr>\n",
       "      <th>2025-04-12</th>\n",
       "      <td>31.5</td>\n",
       "      <td>63.7</td>\n",
       "      <td>0.1</td>\n",
       "      <td>16.3</td>\n",
       "    </tr>\n",
       "    <tr>\n",
       "      <th>2025-04-13</th>\n",
       "      <td>31.2</td>\n",
       "      <td>69.1</td>\n",
       "      <td>4.3</td>\n",
       "      <td>32.2</td>\n",
       "    </tr>\n",
       "    <tr>\n",
       "      <th>2025-04-14</th>\n",
       "      <td>31.2</td>\n",
       "      <td>68.5</td>\n",
       "      <td>0.7</td>\n",
       "      <td>15.3</td>\n",
       "    </tr>\n",
       "    <tr>\n",
       "      <th>2025-04-15</th>\n",
       "      <td>30.7</td>\n",
       "      <td>68.6</td>\n",
       "      <td>5.5</td>\n",
       "      <td>18.7</td>\n",
       "    </tr>\n",
       "  </tbody>\n",
       "</table>\n",
       "</div>"
      ],
      "text/plain": [
       "            temp  humidity  precip  windspeed\n",
       "datetime                                     \n",
       "2025-04-11  31.3      67.3     0.3       18.2\n",
       "2025-04-12  31.5      63.7     0.1       16.3\n",
       "2025-04-13  31.2      69.1     4.3       32.2\n",
       "2025-04-14  31.2      68.5     0.7       15.3\n",
       "2025-04-15  30.7      68.6     5.5       18.7"
      ]
     },
     "execution_count": 45,
     "metadata": {},
     "output_type": "execute_result"
    }
   ],
   "source": [
    "df = pd.read_csv('WeatherData/Quezon City Weather Data.csv')\n",
    "df['datetime'] = pd.to_datetime(df['datetime'])\n",
    "df.set_index('datetime', inplace=True)\n",
    "features = ['temp', 'humidity', 'precip', 'windspeed']\n",
    "df = df[features].copy().fillna(method='ffill')\n",
    "df.tail()"
   ]
  },
  {
   "cell_type": "code",
   "execution_count": 46,
   "id": "09f0530b",
   "metadata": {},
   "outputs": [],
   "source": [
    "scaler = MinMaxScaler(feature_range=(0, 1))\n",
    "scaled_data = scaler.fit_transform(df)"
   ]
  },
  {
   "cell_type": "code",
   "execution_count": 47,
   "id": "443affea",
   "metadata": {},
   "outputs": [
    {
     "data": {
      "text/plain": [
       "array([[0.28301887, 0.4766147 , 0.0013938 , 0.0690564 ],\n",
       "       [0.29245283, 0.41202673, 0.        , 0.08592514],\n",
       "       [0.33018868, 0.30734967, 0.        , 0.10595677],\n",
       "       ...,\n",
       "       [0.8490566 , 0.32293987, 0.00963557, 0.14496574],\n",
       "       [0.8490566 , 0.30957684, 0.00156858, 0.0558777 ],\n",
       "       [0.80188679, 0.31180401, 0.01232457, 0.07380074]])"
      ]
     },
     "execution_count": 47,
     "metadata": {},
     "output_type": "execute_result"
    }
   ],
   "source": [
    "scaled_data"
   ]
  },
  {
   "cell_type": "code",
   "execution_count": 48,
   "id": "acba09b2",
   "metadata": {},
   "outputs": [],
   "source": [
    "def create_sequences(data, window_size=14, forecast_size=3):\n",
    "    X, y = [], []\n",
    "    for i in range(len(data) - window_size - forecast_size + 1):\n",
    "        X.append(data[i:i + window_size])\n",
    "        y.append(data[i + window_size:i + window_size + forecast_size])\n",
    "    return np.array(X), np.array(y)"
   ]
  },
  {
   "cell_type": "code",
   "execution_count": 49,
   "id": "4e23cc7e",
   "metadata": {},
   "outputs": [],
   "source": [
    "X, y = create_sequences(scaled_data)\n",
    "X = X.reshape((X.shape[0], X.shape[1], len(features)))\n",
    "y = y.reshape(y.shape[0], -1)"
   ]
  },
  {
   "cell_type": "code",
   "execution_count": 50,
   "id": "9a2908da",
   "metadata": {},
   "outputs": [],
   "source": [
    "model = Sequential([\n",
    "    InputLayer((X.shape[1], X.shape[2])),\n",
    "    LSTM(128, return_sequences=True, kernel_regularizer=l2(0.01)),\n",
    "    BatchNormalization(),\n",
    "    Dropout(0.2),\n",
    "    LSTM(64, kernel_regularizer=l2(0.01)),\n",
    "    BatchNormalization(),\n",
    "    Dense(64, activation='relu'),\n",
    "    Dense(32, activation='relu'),\n",
    "    Dense(4 * 3)  # 4 features * 3 days\n",
    "])"
   ]
  },
  {
   "cell_type": "code",
   "execution_count": 51,
   "id": "b4ea607a",
   "metadata": {},
   "outputs": [],
   "source": [
    "optimizer = Adam(\n",
    "    learning_rate=0.001,\n",
    "    clipnorm=1.0  # Gradient clipping\n",
    ")"
   ]
  },
  {
   "cell_type": "code",
   "execution_count": 52,
   "id": "1a3594d5",
   "metadata": {},
   "outputs": [],
   "source": [
    "model.compile(\n",
    "    loss='mse',\n",
    "    optimizer=optimizer,\n",
    "    metrics=['mae']\n",
    ")"
   ]
  },
  {
   "cell_type": "code",
   "execution_count": 53,
   "id": "6936088b",
   "metadata": {},
   "outputs": [],
   "source": [
    "os.makedirs(\"weatherModels\", exist_ok=True)"
   ]
  },
  {
   "cell_type": "code",
   "execution_count": 54,
   "id": "1f558666",
   "metadata": {},
   "outputs": [
    {
     "name": "stderr",
     "output_type": "stream",
     "text": [
      "C:\\Users\\User\\AppData\\Local\\Temp\\ipykernel_5404\\2506179292.py:1: UserWarning: ModelCheckpoint mode '<built-in function min>' is unknown, fallback to auto mode.\n",
      "  checkPoint = ModelCheckpoint(\n"
     ]
    }
   ],
   "source": [
    "checkPoint = ModelCheckpoint(\n",
    "    filepath = 'weatherModels/best_model.keras',\n",
    "    monitor='val_loss',\n",
    "    save_best_only=True,\n",
    "    mode=min,\n",
    "    verbose=1\n",
    ")"
   ]
  },
  {
   "cell_type": "code",
   "execution_count": 55,
   "id": "872a70f0",
   "metadata": {},
   "outputs": [],
   "source": [
    "callbacks = [\n",
    "    EarlyStopping(\n",
    "        monitor='val_loss',\n",
    "        patience=15,\n",
    "        min_delta=0.001,\n",
    "        restore_best_weights=True\n",
    "    ),\n",
    "    ReduceLROnPlateau(\n",
    "        monitor='val_loss',\n",
    "        factor=0.5,\n",
    "        patience=5,\n",
    "        min_lr=1e-6,\n",
    "        verbose=1\n",
    "    ),\n",
    "    checkPoint\n",
    "]"
   ]
  },
  {
   "cell_type": "code",
   "execution_count": 56,
   "id": "507574e4",
   "metadata": {},
   "outputs": [
    {
     "name": "stdout",
     "output_type": "stream",
     "text": [
      "Epoch 1/100\n",
      "\u001b[1m145/147\u001b[0m \u001b[32m━━━━━━━━━━━━━━━━━━━\u001b[0m\u001b[37m━\u001b[0m \u001b[1m0s\u001b[0m 18ms/step - loss: 1.1511 - mae: 0.2180\n",
      "Epoch 1: val_loss improved from inf to 0.15880, saving model to weatherModels/best_model.keras\n",
      "\u001b[1m147/147\u001b[0m \u001b[32m━━━━━━━━━━━━━━━━━━━━\u001b[0m\u001b[37m\u001b[0m \u001b[1m13s\u001b[0m 29ms/step - loss: 1.1401 - mae: 0.2162 - val_loss: 0.1588 - val_mae: 0.2048 - learning_rate: 0.0010\n",
      "Epoch 2/100\n",
      "\u001b[1m144/147\u001b[0m \u001b[32m━━━━━━━━━━━━━━━━━━━\u001b[0m\u001b[37m━\u001b[0m \u001b[1m0s\u001b[0m 21ms/step - loss: 0.0559 - mae: 0.0727\n",
      "Epoch 2: val_loss improved from 0.15880 to 0.05055, saving model to weatherModels/best_model.keras\n",
      "\u001b[1m147/147\u001b[0m \u001b[32m━━━━━━━━━━━━━━━━━━━━\u001b[0m\u001b[37m\u001b[0m \u001b[1m5s\u001b[0m 26ms/step - loss: 0.0554 - mae: 0.0727 - val_loss: 0.0505 - val_mae: 0.1389 - learning_rate: 0.0010\n",
      "Epoch 3/100\n",
      "\u001b[1m147/147\u001b[0m \u001b[32m━━━━━━━━━━━━━━━━━━━━\u001b[0m\u001b[37m\u001b[0m \u001b[1m0s\u001b[0m 22ms/step - loss: 0.0161 - mae: 0.0678\n",
      "Epoch 3: val_loss improved from 0.05055 to 0.02714, saving model to weatherModels/best_model.keras\n",
      "\u001b[1m147/147\u001b[0m \u001b[32m━━━━━━━━━━━━━━━━━━━━\u001b[0m\u001b[37m\u001b[0m \u001b[1m5s\u001b[0m 29ms/step - loss: 0.0161 - mae: 0.0678 - val_loss: 0.0271 - val_mae: 0.1030 - learning_rate: 0.0010\n",
      "Epoch 4/100\n",
      "\u001b[1m147/147\u001b[0m \u001b[32m━━━━━━━━━━━━━━━━━━━━\u001b[0m\u001b[37m\u001b[0m \u001b[1m0s\u001b[0m 26ms/step - loss: 0.0118 - mae: 0.0668\n",
      "Epoch 4: val_loss improved from 0.02714 to 0.01983, saving model to weatherModels/best_model.keras\n",
      "\u001b[1m147/147\u001b[0m \u001b[32m━━━━━━━━━━━━━━━━━━━━\u001b[0m\u001b[37m\u001b[0m \u001b[1m4s\u001b[0m 29ms/step - loss: 0.0118 - mae: 0.0668 - val_loss: 0.0198 - val_mae: 0.0918 - learning_rate: 0.0010\n",
      "Epoch 5/100\n",
      "\u001b[1m146/147\u001b[0m \u001b[32m━━━━━━━━━━━━━━━━━━━\u001b[0m\u001b[37m━\u001b[0m \u001b[1m0s\u001b[0m 23ms/step - loss: 0.0108 - mae: 0.0666\n",
      "Epoch 5: val_loss improved from 0.01983 to 0.01116, saving model to weatherModels/best_model.keras\n",
      "\u001b[1m147/147\u001b[0m \u001b[32m━━━━━━━━━━━━━━━━━━━━\u001b[0m\u001b[37m\u001b[0m \u001b[1m4s\u001b[0m 28ms/step - loss: 0.0108 - mae: 0.0666 - val_loss: 0.0112 - val_mae: 0.0669 - learning_rate: 0.0010\n",
      "Epoch 6/100\n",
      "\u001b[1m147/147\u001b[0m \u001b[32m━━━━━━━━━━━━━━━━━━━━\u001b[0m\u001b[37m\u001b[0m \u001b[1m0s\u001b[0m 21ms/step - loss: 0.0097 - mae: 0.0640\n",
      "Epoch 6: val_loss did not improve from 0.01116\n",
      "\u001b[1m147/147\u001b[0m \u001b[32m━━━━━━━━━━━━━━━━━━━━\u001b[0m\u001b[37m\u001b[0m \u001b[1m4s\u001b[0m 26ms/step - loss: 0.0097 - mae: 0.0640 - val_loss: 0.0117 - val_mae: 0.0718 - learning_rate: 0.0010\n",
      "Epoch 7/100\n",
      "\u001b[1m146/147\u001b[0m \u001b[32m━━━━━━━━━━━━━━━━━━━\u001b[0m\u001b[37m━\u001b[0m \u001b[1m0s\u001b[0m 29ms/step - loss: 0.0097 - mae: 0.0636\n",
      "Epoch 7: val_loss improved from 0.01116 to 0.01025, saving model to weatherModels/best_model.keras\n",
      "\u001b[1m147/147\u001b[0m \u001b[32m━━━━━━━━━━━━━━━━━━━━\u001b[0m\u001b[37m\u001b[0m \u001b[1m5s\u001b[0m 32ms/step - loss: 0.0096 - mae: 0.0636 - val_loss: 0.0102 - val_mae: 0.0640 - learning_rate: 0.0010\n",
      "Epoch 8/100\n",
      "\u001b[1m146/147\u001b[0m \u001b[32m━━━━━━━━━━━━━━━━━━━\u001b[0m\u001b[37m━\u001b[0m \u001b[1m0s\u001b[0m 21ms/step - loss: 0.0090 - mae: 0.0613\n",
      "Epoch 8: val_loss improved from 0.01025 to 0.00912, saving model to weatherModels/best_model.keras\n",
      "\u001b[1m147/147\u001b[0m \u001b[32m━━━━━━━━━━━━━━━━━━━━\u001b[0m\u001b[37m\u001b[0m \u001b[1m4s\u001b[0m 25ms/step - loss: 0.0090 - mae: 0.0613 - val_loss: 0.0091 - val_mae: 0.0629 - learning_rate: 0.0010\n",
      "Epoch 9/100\n",
      "\u001b[1m145/147\u001b[0m \u001b[32m━━━━━━━━━━━━━━━━━━━\u001b[0m\u001b[37m━\u001b[0m \u001b[1m0s\u001b[0m 27ms/step - loss: 0.0087 - mae: 0.0602\n",
      "Epoch 9: val_loss did not improve from 0.00912\n",
      "\u001b[1m147/147\u001b[0m \u001b[32m━━━━━━━━━━━━━━━━━━━━\u001b[0m\u001b[37m\u001b[0m \u001b[1m5s\u001b[0m 30ms/step - loss: 0.0087 - mae: 0.0602 - val_loss: 0.0164 - val_mae: 0.0868 - learning_rate: 0.0010\n",
      "Epoch 10/100\n",
      "\u001b[1m146/147\u001b[0m \u001b[32m━━━━━━━━━━━━━━━━━━━\u001b[0m\u001b[37m━\u001b[0m \u001b[1m0s\u001b[0m 20ms/step - loss: 0.0083 - mae: 0.0589\n",
      "Epoch 10: val_loss did not improve from 0.00912\n",
      "\u001b[1m147/147\u001b[0m \u001b[32m━━━━━━━━━━━━━━━━━━━━\u001b[0m\u001b[37m\u001b[0m \u001b[1m3s\u001b[0m 22ms/step - loss: 0.0083 - mae: 0.0589 - val_loss: 0.0138 - val_mae: 0.0819 - learning_rate: 0.0010\n",
      "Epoch 11/100\n",
      "\u001b[1m147/147\u001b[0m \u001b[32m━━━━━━━━━━━━━━━━━━━━\u001b[0m\u001b[37m\u001b[0m \u001b[1m0s\u001b[0m 24ms/step - loss: 0.0087 - mae: 0.0599\n",
      "Epoch 11: val_loss did not improve from 0.00912\n",
      "\u001b[1m147/147\u001b[0m \u001b[32m━━━━━━━━━━━━━━━━━━━━\u001b[0m\u001b[37m\u001b[0m \u001b[1m4s\u001b[0m 28ms/step - loss: 0.0087 - mae: 0.0599 - val_loss: 0.0169 - val_mae: 0.0906 - learning_rate: 0.0010\n",
      "Epoch 12/100\n",
      "\u001b[1m145/147\u001b[0m \u001b[32m━━━━━━━━━━━━━━━━━━━\u001b[0m\u001b[37m━\u001b[0m \u001b[1m0s\u001b[0m 20ms/step - loss: 0.0085 - mae: 0.0594\n",
      "Epoch 12: val_loss did not improve from 0.00912\n",
      "\u001b[1m147/147\u001b[0m \u001b[32m━━━━━━━━━━━━━━━━━━━━\u001b[0m\u001b[37m\u001b[0m \u001b[1m3s\u001b[0m 22ms/step - loss: 0.0085 - mae: 0.0594 - val_loss: 0.0141 - val_mae: 0.0788 - learning_rate: 0.0010\n",
      "Epoch 13/100\n",
      "\u001b[1m145/147\u001b[0m \u001b[32m━━━━━━━━━━━━━━━━━━━\u001b[0m\u001b[37m━\u001b[0m \u001b[1m0s\u001b[0m 20ms/step - loss: 0.0085 - mae: 0.0592\n",
      "Epoch 13: ReduceLROnPlateau reducing learning rate to 0.0005000000237487257.\n",
      "\n",
      "Epoch 13: val_loss did not improve from 0.00912\n",
      "\u001b[1m147/147\u001b[0m \u001b[32m━━━━━━━━━━━━━━━━━━━━\u001b[0m\u001b[37m\u001b[0m \u001b[1m3s\u001b[0m 22ms/step - loss: 0.0085 - mae: 0.0592 - val_loss: 0.0227 - val_mae: 0.0996 - learning_rate: 0.0010\n",
      "Epoch 14/100\n",
      "\u001b[1m146/147\u001b[0m \u001b[32m━━━━━━━━━━━━━━━━━━━\u001b[0m\u001b[37m━\u001b[0m \u001b[1m0s\u001b[0m 34ms/step - loss: 0.0082 - mae: 0.0582\n",
      "Epoch 14: val_loss improved from 0.00912 to 0.00815, saving model to weatherModels/best_model.keras\n",
      "\u001b[1m147/147\u001b[0m \u001b[32m━━━━━━━━━━━━━━━━━━━━\u001b[0m\u001b[37m\u001b[0m \u001b[1m6s\u001b[0m 39ms/step - loss: 0.0082 - mae: 0.0582 - val_loss: 0.0082 - val_mae: 0.0562 - learning_rate: 5.0000e-04\n",
      "Epoch 15/100\n",
      "\u001b[1m146/147\u001b[0m \u001b[32m━━━━━━━━━━━━━━━━━━━\u001b[0m\u001b[37m━\u001b[0m \u001b[1m0s\u001b[0m 21ms/step - loss: 0.0080 - mae: 0.0576\n",
      "Epoch 15: val_loss improved from 0.00815 to 0.00811, saving model to weatherModels/best_model.keras\n",
      "\u001b[1m147/147\u001b[0m \u001b[32m━━━━━━━━━━━━━━━━━━━━\u001b[0m\u001b[37m\u001b[0m \u001b[1m4s\u001b[0m 27ms/step - loss: 0.0080 - mae: 0.0576 - val_loss: 0.0081 - val_mae: 0.0604 - learning_rate: 5.0000e-04\n",
      "Epoch 16/100\n",
      "\u001b[1m145/147\u001b[0m \u001b[32m━━━━━━━━━━━━━━━━━━━\u001b[0m\u001b[37m━\u001b[0m \u001b[1m0s\u001b[0m 20ms/step - loss: 0.0078 - mae: 0.0568\n",
      "Epoch 16: val_loss did not improve from 0.00811\n",
      "\u001b[1m147/147\u001b[0m \u001b[32m━━━━━━━━━━━━━━━━━━━━\u001b[0m\u001b[37m\u001b[0m \u001b[1m3s\u001b[0m 22ms/step - loss: 0.0078 - mae: 0.0568 - val_loss: 0.0084 - val_mae: 0.0607 - learning_rate: 5.0000e-04\n",
      "Epoch 17/100\n",
      "\u001b[1m144/147\u001b[0m \u001b[32m━━━━━━━━━━━━━━━━━━━\u001b[0m\u001b[37m━\u001b[0m \u001b[1m0s\u001b[0m 22ms/step - loss: 0.0081 - mae: 0.0579\n",
      "Epoch 17: val_loss improved from 0.00811 to 0.00810, saving model to weatherModels/best_model.keras\n",
      "\u001b[1m147/147\u001b[0m \u001b[32m━━━━━━━━━━━━━━━━━━━━\u001b[0m\u001b[37m\u001b[0m \u001b[1m4s\u001b[0m 24ms/step - loss: 0.0081 - mae: 0.0578 - val_loss: 0.0081 - val_mae: 0.0597 - learning_rate: 5.0000e-04\n",
      "Epoch 18/100\n",
      "\u001b[1m146/147\u001b[0m \u001b[32m━━━━━━━━━━━━━━━━━━━\u001b[0m\u001b[37m━\u001b[0m \u001b[1m0s\u001b[0m 21ms/step - loss: 0.0079 - mae: 0.0568\n",
      "Epoch 18: val_loss did not improve from 0.00810\n",
      "\u001b[1m147/147\u001b[0m \u001b[32m━━━━━━━━━━━━━━━━━━━━\u001b[0m\u001b[37m\u001b[0m \u001b[1m3s\u001b[0m 22ms/step - loss: 0.0079 - mae: 0.0568 - val_loss: 0.0106 - val_mae: 0.0695 - learning_rate: 5.0000e-04\n",
      "Epoch 19/100\n",
      "\u001b[1m147/147\u001b[0m \u001b[32m━━━━━━━━━━━━━━━━━━━━\u001b[0m\u001b[37m\u001b[0m \u001b[1m0s\u001b[0m 18ms/step - loss: 0.0079 - mae: 0.0570\n",
      "Epoch 19: val_loss improved from 0.00810 to 0.00776, saving model to weatherModels/best_model.keras\n",
      "\u001b[1m147/147\u001b[0m \u001b[32m━━━━━━━━━━━━━━━━━━━━\u001b[0m\u001b[37m\u001b[0m \u001b[1m3s\u001b[0m 21ms/step - loss: 0.0079 - mae: 0.0570 - val_loss: 0.0078 - val_mae: 0.0546 - learning_rate: 5.0000e-04\n",
      "Epoch 20/100\n",
      "\u001b[1m147/147\u001b[0m \u001b[32m━━━━━━━━━━━━━━━━━━━━\u001b[0m\u001b[37m\u001b[0m \u001b[1m0s\u001b[0m 25ms/step - loss: 0.0079 - mae: 0.0570\n",
      "Epoch 20: val_loss did not improve from 0.00776\n",
      "\u001b[1m147/147\u001b[0m \u001b[32m━━━━━━━━━━━━━━━━━━━━\u001b[0m\u001b[37m\u001b[0m \u001b[1m4s\u001b[0m 27ms/step - loss: 0.0079 - mae: 0.0570 - val_loss: 0.0099 - val_mae: 0.0700 - learning_rate: 5.0000e-04\n",
      "Epoch 21/100\n",
      "\u001b[1m146/147\u001b[0m \u001b[32m━━━━━━━━━━━━━━━━━━━\u001b[0m\u001b[37m━\u001b[0m \u001b[1m0s\u001b[0m 21ms/step - loss: 0.0079 - mae: 0.0568\n",
      "Epoch 21: val_loss did not improve from 0.00776\n",
      "\u001b[1m147/147\u001b[0m \u001b[32m━━━━━━━━━━━━━━━━━━━━\u001b[0m\u001b[37m\u001b[0m \u001b[1m4s\u001b[0m 24ms/step - loss: 0.0079 - mae: 0.0568 - val_loss: 0.0088 - val_mae: 0.0624 - learning_rate: 5.0000e-04\n",
      "Epoch 22/100\n",
      "\u001b[1m144/147\u001b[0m \u001b[32m━━━━━━━━━━━━━━━━━━━\u001b[0m\u001b[37m━\u001b[0m \u001b[1m0s\u001b[0m 22ms/step - loss: 0.0079 - mae: 0.0569\n",
      "Epoch 22: val_loss improved from 0.00776 to 0.00762, saving model to weatherModels/best_model.keras\n",
      "\u001b[1m147/147\u001b[0m \u001b[32m━━━━━━━━━━━━━━━━━━━━\u001b[0m\u001b[37m\u001b[0m \u001b[1m4s\u001b[0m 24ms/step - loss: 0.0079 - mae: 0.0569 - val_loss: 0.0076 - val_mae: 0.0540 - learning_rate: 5.0000e-04\n",
      "Epoch 23/100\n",
      "\u001b[1m147/147\u001b[0m \u001b[32m━━━━━━━━━━━━━━━━━━━━\u001b[0m\u001b[37m\u001b[0m \u001b[1m0s\u001b[0m 25ms/step - loss: 0.0080 - mae: 0.0570\n",
      "Epoch 23: val_loss did not improve from 0.00762\n",
      "\u001b[1m147/147\u001b[0m \u001b[32m━━━━━━━━━━━━━━━━━━━━\u001b[0m\u001b[37m\u001b[0m \u001b[1m4s\u001b[0m 28ms/step - loss: 0.0080 - mae: 0.0570 - val_loss: 0.0123 - val_mae: 0.0798 - learning_rate: 5.0000e-04\n",
      "Epoch 24/100\n",
      "\u001b[1m146/147\u001b[0m \u001b[32m━━━━━━━━━━━━━━━━━━━\u001b[0m\u001b[37m━\u001b[0m \u001b[1m0s\u001b[0m 35ms/step - loss: 0.0078 - mae: 0.0568\n",
      "Epoch 24: val_loss did not improve from 0.00762\n",
      "\u001b[1m147/147\u001b[0m \u001b[32m━━━━━━━━━━━━━━━━━━━━\u001b[0m\u001b[37m\u001b[0m \u001b[1m6s\u001b[0m 39ms/step - loss: 0.0078 - mae: 0.0568 - val_loss: 0.0086 - val_mae: 0.0674 - learning_rate: 5.0000e-04\n",
      "Epoch 25/100\n",
      "\u001b[1m146/147\u001b[0m \u001b[32m━━━━━━━━━━━━━━━━━━━\u001b[0m\u001b[37m━\u001b[0m \u001b[1m0s\u001b[0m 23ms/step - loss: 0.0078 - mae: 0.0568\n",
      "Epoch 25: val_loss did not improve from 0.00762\n",
      "\u001b[1m147/147\u001b[0m \u001b[32m━━━━━━━━━━━━━━━━━━━━\u001b[0m\u001b[37m\u001b[0m \u001b[1m4s\u001b[0m 28ms/step - loss: 0.0078 - mae: 0.0567 - val_loss: 0.0122 - val_mae: 0.0735 - learning_rate: 5.0000e-04\n",
      "Epoch 26/100\n",
      "\u001b[1m147/147\u001b[0m \u001b[32m━━━━━━━━━━━━━━━━━━━━\u001b[0m\u001b[37m\u001b[0m \u001b[1m0s\u001b[0m 22ms/step - loss: 0.0078 - mae: 0.0565\n",
      "Epoch 26: val_loss did not improve from 0.00762\n",
      "\u001b[1m147/147\u001b[0m \u001b[32m━━━━━━━━━━━━━━━━━━━━\u001b[0m\u001b[37m\u001b[0m \u001b[1m4s\u001b[0m 25ms/step - loss: 0.0078 - mae: 0.0565 - val_loss: 0.0165 - val_mae: 0.0941 - learning_rate: 5.0000e-04\n",
      "Epoch 27/100\n",
      "\u001b[1m144/147\u001b[0m \u001b[32m━━━━━━━━━━━━━━━━━━━\u001b[0m\u001b[37m━\u001b[0m \u001b[1m0s\u001b[0m 23ms/step - loss: 0.0079 - mae: 0.0568\n",
      "Epoch 27: ReduceLROnPlateau reducing learning rate to 0.0002500000118743628.\n",
      "\n",
      "Epoch 27: val_loss did not improve from 0.00762\n",
      "\u001b[1m147/147\u001b[0m \u001b[32m━━━━━━━━━━━━━━━━━━━━\u001b[0m\u001b[37m\u001b[0m \u001b[1m4s\u001b[0m 25ms/step - loss: 0.0079 - mae: 0.0567 - val_loss: 0.0097 - val_mae: 0.0715 - learning_rate: 5.0000e-04\n",
      "Epoch 28/100\n",
      "\u001b[1m147/147\u001b[0m \u001b[32m━━━━━━━━━━━━━━━━━━━━\u001b[0m\u001b[37m\u001b[0m \u001b[1m0s\u001b[0m 26ms/step - loss: 0.0074 - mae: 0.0548\n",
      "Epoch 28: val_loss did not improve from 0.00762\n",
      "\u001b[1m147/147\u001b[0m \u001b[32m━━━━━━━━━━━━━━━━━━━━\u001b[0m\u001b[37m\u001b[0m \u001b[1m4s\u001b[0m 29ms/step - loss: 0.0074 - mae: 0.0548 - val_loss: 0.0078 - val_mae: 0.0555 - learning_rate: 2.5000e-04\n",
      "Epoch 29/100\n",
      "\u001b[1m146/147\u001b[0m \u001b[32m━━━━━━━━━━━━━━━━━━━\u001b[0m\u001b[37m━\u001b[0m \u001b[1m0s\u001b[0m 22ms/step - loss: 0.0076 - mae: 0.0558\n",
      "Epoch 29: val_loss did not improve from 0.00762\n",
      "\u001b[1m147/147\u001b[0m \u001b[32m━━━━━━━━━━━━━━━━━━━━\u001b[0m\u001b[37m\u001b[0m \u001b[1m4s\u001b[0m 26ms/step - loss: 0.0076 - mae: 0.0558 - val_loss: 0.0087 - val_mae: 0.0630 - learning_rate: 2.5000e-04\n",
      "Epoch 30/100\n",
      "\u001b[1m146/147\u001b[0m \u001b[32m━━━━━━━━━━━━━━━━━━━\u001b[0m\u001b[37m━\u001b[0m \u001b[1m0s\u001b[0m 20ms/step - loss: 0.0076 - mae: 0.0555\n",
      "Epoch 30: val_loss improved from 0.00762 to 0.00719, saving model to weatherModels/best_model.keras\n",
      "\u001b[1m147/147\u001b[0m \u001b[32m━━━━━━━━━━━━━━━━━━━━\u001b[0m\u001b[37m\u001b[0m \u001b[1m3s\u001b[0m 22ms/step - loss: 0.0076 - mae: 0.0555 - val_loss: 0.0072 - val_mae: 0.0544 - learning_rate: 2.5000e-04\n"
     ]
    }
   ],
   "source": [
    "history = model.fit(\n",
    "    X, y,\n",
    "    epochs=100,\n",
    "    batch_size=32,\n",
    "    validation_split=0.1,\n",
    "    callbacks=callbacks,\n",
    "    verbose=1\n",
    ")"
   ]
  },
  {
   "cell_type": "code",
   "execution_count": 37,
   "id": "51d8c714",
   "metadata": {},
   "outputs": [],
   "source": [
    "best_model = load_model('weatherModels/best_model.keras')"
   ]
  },
  {
   "cell_type": "code",
   "execution_count": 38,
   "id": "f021d592",
   "metadata": {},
   "outputs": [],
   "source": [
    "def predict_future(model, data, scaler, window_size=14, forecast_days=3):\n",
    "    last_window = scaler.transform(data[-window_size:])\n",
    "    X_pred = last_window.reshape(1, window_size, len(features))\n",
    "    pred = model.predict(X_pred)[0]\n",
    "    pred = pred.reshape(forecast_days, len(features))\n",
    "    return scaler.inverse_transform(pred)"
   ]
  },
  {
   "cell_type": "code",
   "execution_count": 39,
   "id": "7318ccea",
   "metadata": {},
   "outputs": [
    {
     "name": "stderr",
     "output_type": "stream",
     "text": [
      "c:\\Users\\User\\Desktop\\ForeLastDataTraining\\venv\\Lib\\site-packages\\sklearn\\utils\\validation.py:2739: UserWarning: X does not have valid feature names, but MinMaxScaler was fitted with feature names\n",
      "  warnings.warn(\n"
     ]
    },
    {
     "name": "stdout",
     "output_type": "stream",
     "text": [
      "\u001b[1m1/1\u001b[0m \u001b[32m━━━━━━━━━━━━━━━━━━━━\u001b[0m\u001b[37m\u001b[0m \u001b[1m1s\u001b[0m 649ms/step\n"
     ]
    }
   ],
   "source": [
    "next_3_days = predict_future(best_model, df.values, scaler)"
   ]
  },
  {
   "cell_type": "code",
   "execution_count": 40,
   "id": "2c4f9c85",
   "metadata": {},
   "outputs": [],
   "source": [
    "forecast_dates = pd.date_range(\n",
    "    start=df.index[-1] + pd.Timedelta(days=1),\n",
    "    periods=3\n",
    ")"
   ]
  },
  {
   "cell_type": "code",
   "execution_count": 41,
   "id": "1c61ea76",
   "metadata": {},
   "outputs": [],
   "source": [
    "output_df = pd.DataFrame(\n",
    "    next_3_days,\n",
    "    columns=features,\n",
    "    index=forecast_dates\n",
    ").reset_index()"
   ]
  },
  {
   "cell_type": "code",
   "execution_count": 42,
   "id": "27bb4754",
   "metadata": {},
   "outputs": [],
   "source": [
    "output_df.insert(0, 'name', 'Quezon City, National Capital Region, Philippines')\n",
    "output_df.rename(columns={'index': 'datetime'}, inplace=True)"
   ]
  },
  {
   "cell_type": "code",
   "execution_count": 43,
   "id": "3a5feeec",
   "metadata": {},
   "outputs": [
    {
     "name": "stdout",
     "output_type": "stream",
     "text": [
      "                                             name   datetime      temp  humidity    precip  windspeed\n",
      "Quezon City, National Capital Region, Philippines 2025-04-16 30.720041 69.290123  5.017208  21.577856\n",
      "Quezon City, National Capital Region, Philippines 2025-04-17 30.573256 70.099480  9.773944  21.044687\n",
      "Quezon City, National Capital Region, Philippines 2025-04-18 30.543406 70.657524 10.415643  20.886862\n"
     ]
    }
   ],
   "source": [
    "final_output = output_df[['name', 'datetime'] + features]\n",
    "print(final_output.to_string(index=False))"
   ]
  },
  {
   "cell_type": "code",
   "execution_count": null,
   "id": "ee419cae",
   "metadata": {},
   "outputs": [],
   "source": []
  }
 ],
 "metadata": {
  "kernelspec": {
   "display_name": "venv",
   "language": "python",
   "name": "python3"
  },
  "language_info": {
   "codemirror_mode": {
    "name": "ipython",
    "version": 3
   },
   "file_extension": ".py",
   "mimetype": "text/x-python",
   "name": "python",
   "nbconvert_exporter": "python",
   "pygments_lexer": "ipython3",
   "version": "3.11.0"
  }
 },
 "nbformat": 4,
 "nbformat_minor": 5
}
