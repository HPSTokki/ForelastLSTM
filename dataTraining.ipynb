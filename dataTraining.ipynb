{
 "cells": [
  {
   "cell_type": "code",
   "execution_count": 1,
   "id": "dac55c6a",
   "metadata": {},
   "outputs": [],
   "source": [
    "import pandas as pd;\n",
    "import numpy as np;\n",
    "import tensorflow as tf;"
   ]
  },
  {
   "cell_type": "code",
   "execution_count": 2,
   "id": "f2add638",
   "metadata": {},
   "outputs": [],
   "source": [
    "from tensorflow.keras import Sequential;\n",
    "from tensorflow.keras.layers import Dense, Dropout, InputLayer, Flatten, LSTM;\n",
    "from tensorflow.keras.optimizers import Adam;\n",
    "from tensorflow.keras.losses import MeanSquaredError;\n",
    "from tensorflow.keras.metrics import MeanAbsoluteError, MeanSquaredError, RootMeanSquaredError;\n"
   ]
  },
  {
   "cell_type": "code",
   "execution_count": 3,
   "id": "e6e27184",
   "metadata": {},
   "outputs": [
    {
     "data": {
      "text/html": [
       "<div>\n",
       "<style scoped>\n",
       "    .dataframe tbody tr th:only-of-type {\n",
       "        vertical-align: middle;\n",
       "    }\n",
       "\n",
       "    .dataframe tbody tr th {\n",
       "        vertical-align: top;\n",
       "    }\n",
       "\n",
       "    .dataframe thead th {\n",
       "        text-align: right;\n",
       "    }\n",
       "</style>\n",
       "<table border=\"1\" class=\"dataframe\">\n",
       "  <thead>\n",
       "    <tr style=\"text-align: right;\">\n",
       "      <th></th>\n",
       "      <th>name</th>\n",
       "      <th>datetime</th>\n",
       "      <th>tempmax</th>\n",
       "      <th>tempmin</th>\n",
       "      <th>temp</th>\n",
       "      <th>feelslikemax</th>\n",
       "      <th>feelslikemin</th>\n",
       "      <th>feelslike</th>\n",
       "      <th>dew</th>\n",
       "      <th>humidity</th>\n",
       "      <th>...</th>\n",
       "      <th>solarenergy</th>\n",
       "      <th>uvindex</th>\n",
       "      <th>severerisk</th>\n",
       "      <th>sunrise</th>\n",
       "      <th>sunset</th>\n",
       "      <th>moonphase</th>\n",
       "      <th>conditions</th>\n",
       "      <th>description</th>\n",
       "      <th>icon</th>\n",
       "      <th>stations</th>\n",
       "    </tr>\n",
       "  </thead>\n",
       "  <tbody>\n",
       "    <tr>\n",
       "      <th>5213</th>\n",
       "      <td>Quezon City, National Capital Region, Philippines</td>\n",
       "      <td>2025-04-10</td>\n",
       "      <td>35.9</td>\n",
       "      <td>26.9</td>\n",
       "      <td>30.8</td>\n",
       "      <td>42.7</td>\n",
       "      <td>29.1</td>\n",
       "      <td>35.1</td>\n",
       "      <td>22.9</td>\n",
       "      <td>64.3</td>\n",
       "      <td>...</td>\n",
       "      <td>16.9</td>\n",
       "      <td>6.0</td>\n",
       "      <td>30.0</td>\n",
       "      <td>2025-04-10T05:45:20</td>\n",
       "      <td>2025-04-10T18:09:13</td>\n",
       "      <td>0.40</td>\n",
       "      <td>Rain, Partially cloudy</td>\n",
       "      <td>Partly cloudy throughout the day with late aft...</td>\n",
       "      <td>rain</td>\n",
       "      <td>RPLC,RPLL,E0758</td>\n",
       "    </tr>\n",
       "    <tr>\n",
       "      <th>5214</th>\n",
       "      <td>Quezon City, National Capital Region, Philippines</td>\n",
       "      <td>2025-04-11</td>\n",
       "      <td>35.0</td>\n",
       "      <td>28.8</td>\n",
       "      <td>31.3</td>\n",
       "      <td>41.6</td>\n",
       "      <td>34.0</td>\n",
       "      <td>37.0</td>\n",
       "      <td>24.3</td>\n",
       "      <td>67.3</td>\n",
       "      <td>...</td>\n",
       "      <td>14.6</td>\n",
       "      <td>6.0</td>\n",
       "      <td>30.0</td>\n",
       "      <td>2025-04-11T05:44:40</td>\n",
       "      <td>2025-04-11T18:09:21</td>\n",
       "      <td>0.44</td>\n",
       "      <td>Rain, Partially cloudy</td>\n",
       "      <td>Clearing in the afternoon with storms possible.</td>\n",
       "      <td>rain</td>\n",
       "      <td>RPLC,RPLL,E0758</td>\n",
       "    </tr>\n",
       "    <tr>\n",
       "      <th>5215</th>\n",
       "      <td>Quezon City, National Capital Region, Philippines</td>\n",
       "      <td>2025-04-12</td>\n",
       "      <td>35.9</td>\n",
       "      <td>27.9</td>\n",
       "      <td>31.5</td>\n",
       "      <td>41.7</td>\n",
       "      <td>30.5</td>\n",
       "      <td>36.5</td>\n",
       "      <td>23.5</td>\n",
       "      <td>63.7</td>\n",
       "      <td>...</td>\n",
       "      <td>14.1</td>\n",
       "      <td>7.0</td>\n",
       "      <td>30.0</td>\n",
       "      <td>05:44:01</td>\n",
       "      <td>18:09:30</td>\n",
       "      <td>0.47</td>\n",
       "      <td>Rain, Partially cloudy</td>\n",
       "      <td>Clearing in the afternoon with late afternoon ...</td>\n",
       "      <td>rain</td>\n",
       "      <td>['RPLC', 'RPLL', 'E0758']</td>\n",
       "    </tr>\n",
       "    <tr>\n",
       "      <th>5216</th>\n",
       "      <td>Quezon City, National Capital Region, Philippines</td>\n",
       "      <td>2025-04-13</td>\n",
       "      <td>35.8</td>\n",
       "      <td>28.9</td>\n",
       "      <td>31.2</td>\n",
       "      <td>43.0</td>\n",
       "      <td>34.2</td>\n",
       "      <td>37.5</td>\n",
       "      <td>24.7</td>\n",
       "      <td>69.1</td>\n",
       "      <td>...</td>\n",
       "      <td>13.0</td>\n",
       "      <td>6.0</td>\n",
       "      <td>30.0</td>\n",
       "      <td>05:43:22</td>\n",
       "      <td>18:09:38</td>\n",
       "      <td>0.50</td>\n",
       "      <td>Rain, Partially cloudy</td>\n",
       "      <td>Partly cloudy throughout the day with rain.</td>\n",
       "      <td>rain</td>\n",
       "      <td>['RPLC', 'RPLL', 'E0758']</td>\n",
       "    </tr>\n",
       "    <tr>\n",
       "      <th>5217</th>\n",
       "      <td>Quezon City, National Capital Region, Philippines</td>\n",
       "      <td>2025-04-14</td>\n",
       "      <td>35.0</td>\n",
       "      <td>27.9</td>\n",
       "      <td>31.1</td>\n",
       "      <td>41.7</td>\n",
       "      <td>31.6</td>\n",
       "      <td>36.9</td>\n",
       "      <td>24.4</td>\n",
       "      <td>68.5</td>\n",
       "      <td>...</td>\n",
       "      <td>15.6</td>\n",
       "      <td>6.0</td>\n",
       "      <td>30.0</td>\n",
       "      <td>05:42:44</td>\n",
       "      <td>18:09:47</td>\n",
       "      <td>0.54</td>\n",
       "      <td>Rain, Partially cloudy</td>\n",
       "      <td>Partly cloudy throughout the day with storms p...</td>\n",
       "      <td>rain</td>\n",
       "      <td>['RPLC', 'RPLL', 'E0758']</td>\n",
       "    </tr>\n",
       "  </tbody>\n",
       "</table>\n",
       "<p>5 rows × 33 columns</p>\n",
       "</div>"
      ],
      "text/plain": [
       "                                                   name    datetime  tempmax  \\\n",
       "5213  Quezon City, National Capital Region, Philippines  2025-04-10     35.9   \n",
       "5214  Quezon City, National Capital Region, Philippines  2025-04-11     35.0   \n",
       "5215  Quezon City, National Capital Region, Philippines  2025-04-12     35.9   \n",
       "5216  Quezon City, National Capital Region, Philippines  2025-04-13     35.8   \n",
       "5217  Quezon City, National Capital Region, Philippines  2025-04-14     35.0   \n",
       "\n",
       "      tempmin  temp  feelslikemax  feelslikemin  feelslike   dew  humidity  \\\n",
       "5213     26.9  30.8          42.7          29.1       35.1  22.9      64.3   \n",
       "5214     28.8  31.3          41.6          34.0       37.0  24.3      67.3   \n",
       "5215     27.9  31.5          41.7          30.5       36.5  23.5      63.7   \n",
       "5216     28.9  31.2          43.0          34.2       37.5  24.7      69.1   \n",
       "5217     27.9  31.1          41.7          31.6       36.9  24.4      68.5   \n",
       "\n",
       "      ...  solarenergy  uvindex  severerisk              sunrise  \\\n",
       "5213  ...         16.9      6.0        30.0  2025-04-10T05:45:20   \n",
       "5214  ...         14.6      6.0        30.0  2025-04-11T05:44:40   \n",
       "5215  ...         14.1      7.0        30.0             05:44:01   \n",
       "5216  ...         13.0      6.0        30.0             05:43:22   \n",
       "5217  ...         15.6      6.0        30.0             05:42:44   \n",
       "\n",
       "                   sunset  moonphase              conditions  \\\n",
       "5213  2025-04-10T18:09:13       0.40  Rain, Partially cloudy   \n",
       "5214  2025-04-11T18:09:21       0.44  Rain, Partially cloudy   \n",
       "5215             18:09:30       0.47  Rain, Partially cloudy   \n",
       "5216             18:09:38       0.50  Rain, Partially cloudy   \n",
       "5217             18:09:47       0.54  Rain, Partially cloudy   \n",
       "\n",
       "                                            description  icon  \\\n",
       "5213  Partly cloudy throughout the day with late aft...  rain   \n",
       "5214    Clearing in the afternoon with storms possible.  rain   \n",
       "5215  Clearing in the afternoon with late afternoon ...  rain   \n",
       "5216        Partly cloudy throughout the day with rain.  rain   \n",
       "5217  Partly cloudy throughout the day with storms p...  rain   \n",
       "\n",
       "                       stations  \n",
       "5213            RPLC,RPLL,E0758  \n",
       "5214            RPLC,RPLL,E0758  \n",
       "5215  ['RPLC', 'RPLL', 'E0758']  \n",
       "5216  ['RPLC', 'RPLL', 'E0758']  \n",
       "5217  ['RPLC', 'RPLL', 'E0758']  \n",
       "\n",
       "[5 rows x 33 columns]"
      ]
     },
     "execution_count": 3,
     "metadata": {},
     "output_type": "execute_result"
    }
   ],
   "source": [
    "df = pd.read_csv('WeatherData/Quezon City Weather Data.csv')\n",
    "df.tail()"
   ]
  },
  {
   "cell_type": "code",
   "execution_count": 4,
   "id": "a072c77a",
   "metadata": {},
   "outputs": [
    {
     "name": "stdout",
     "output_type": "stream",
     "text": [
      "datetime64[ns]\n"
     ]
    }
   ],
   "source": [
    "df['datetime'] = pd.to_datetime(df['datetime'], format='mixed')\n",
    "df.tail()\n",
    "print(df['datetime'].dtype)\n",
    "df.to_csv('WeatherData/Quezon City Weather Data.csv', index=False, date_format='%Y-%m-%d')"
   ]
  },
  {
   "cell_type": "code",
   "execution_count": 5,
   "id": "c0eb6fa7",
   "metadata": {},
   "outputs": [
    {
     "data": {
      "text/html": [
       "<div>\n",
       "<style scoped>\n",
       "    .dataframe tbody tr th:only-of-type {\n",
       "        vertical-align: middle;\n",
       "    }\n",
       "\n",
       "    .dataframe tbody tr th {\n",
       "        vertical-align: top;\n",
       "    }\n",
       "\n",
       "    .dataframe thead th {\n",
       "        text-align: right;\n",
       "    }\n",
       "</style>\n",
       "<table border=\"1\" class=\"dataframe\">\n",
       "  <thead>\n",
       "    <tr style=\"text-align: right;\">\n",
       "      <th></th>\n",
       "      <th>name</th>\n",
       "      <th>datetime</th>\n",
       "      <th>tempmax</th>\n",
       "      <th>tempmin</th>\n",
       "      <th>temp</th>\n",
       "      <th>feelslikemax</th>\n",
       "      <th>feelslikemin</th>\n",
       "      <th>feelslike</th>\n",
       "      <th>dew</th>\n",
       "      <th>humidity</th>\n",
       "      <th>...</th>\n",
       "      <th>solarenergy</th>\n",
       "      <th>uvindex</th>\n",
       "      <th>severerisk</th>\n",
       "      <th>sunrise</th>\n",
       "      <th>sunset</th>\n",
       "      <th>moonphase</th>\n",
       "      <th>conditions</th>\n",
       "      <th>description</th>\n",
       "      <th>icon</th>\n",
       "      <th>stations</th>\n",
       "    </tr>\n",
       "  </thead>\n",
       "  <tbody>\n",
       "    <tr>\n",
       "      <th>5213</th>\n",
       "      <td>Quezon City, National Capital Region, Philippines</td>\n",
       "      <td>2025-04-10</td>\n",
       "      <td>35.9</td>\n",
       "      <td>26.9</td>\n",
       "      <td>30.8</td>\n",
       "      <td>42.7</td>\n",
       "      <td>29.1</td>\n",
       "      <td>35.1</td>\n",
       "      <td>22.9</td>\n",
       "      <td>64.3</td>\n",
       "      <td>...</td>\n",
       "      <td>16.9</td>\n",
       "      <td>6.0</td>\n",
       "      <td>30.0</td>\n",
       "      <td>2025-04-10T05:45:20</td>\n",
       "      <td>2025-04-10T18:09:13</td>\n",
       "      <td>0.40</td>\n",
       "      <td>Rain, Partially cloudy</td>\n",
       "      <td>Partly cloudy throughout the day with late aft...</td>\n",
       "      <td>rain</td>\n",
       "      <td>RPLC,RPLL,E0758</td>\n",
       "    </tr>\n",
       "    <tr>\n",
       "      <th>5214</th>\n",
       "      <td>Quezon City, National Capital Region, Philippines</td>\n",
       "      <td>2025-04-11</td>\n",
       "      <td>35.0</td>\n",
       "      <td>28.8</td>\n",
       "      <td>31.3</td>\n",
       "      <td>41.6</td>\n",
       "      <td>34.0</td>\n",
       "      <td>37.0</td>\n",
       "      <td>24.3</td>\n",
       "      <td>67.3</td>\n",
       "      <td>...</td>\n",
       "      <td>14.6</td>\n",
       "      <td>6.0</td>\n",
       "      <td>30.0</td>\n",
       "      <td>2025-04-11T05:44:40</td>\n",
       "      <td>2025-04-11T18:09:21</td>\n",
       "      <td>0.44</td>\n",
       "      <td>Rain, Partially cloudy</td>\n",
       "      <td>Clearing in the afternoon with storms possible.</td>\n",
       "      <td>rain</td>\n",
       "      <td>RPLC,RPLL,E0758</td>\n",
       "    </tr>\n",
       "    <tr>\n",
       "      <th>5215</th>\n",
       "      <td>Quezon City, National Capital Region, Philippines</td>\n",
       "      <td>2025-04-12</td>\n",
       "      <td>35.9</td>\n",
       "      <td>27.9</td>\n",
       "      <td>31.5</td>\n",
       "      <td>41.7</td>\n",
       "      <td>30.5</td>\n",
       "      <td>36.5</td>\n",
       "      <td>23.5</td>\n",
       "      <td>63.7</td>\n",
       "      <td>...</td>\n",
       "      <td>14.1</td>\n",
       "      <td>7.0</td>\n",
       "      <td>30.0</td>\n",
       "      <td>05:44:01</td>\n",
       "      <td>18:09:30</td>\n",
       "      <td>0.47</td>\n",
       "      <td>Rain, Partially cloudy</td>\n",
       "      <td>Clearing in the afternoon with late afternoon ...</td>\n",
       "      <td>rain</td>\n",
       "      <td>['RPLC', 'RPLL', 'E0758']</td>\n",
       "    </tr>\n",
       "    <tr>\n",
       "      <th>5216</th>\n",
       "      <td>Quezon City, National Capital Region, Philippines</td>\n",
       "      <td>2025-04-13</td>\n",
       "      <td>35.8</td>\n",
       "      <td>28.9</td>\n",
       "      <td>31.2</td>\n",
       "      <td>43.0</td>\n",
       "      <td>34.2</td>\n",
       "      <td>37.5</td>\n",
       "      <td>24.7</td>\n",
       "      <td>69.1</td>\n",
       "      <td>...</td>\n",
       "      <td>13.0</td>\n",
       "      <td>6.0</td>\n",
       "      <td>30.0</td>\n",
       "      <td>05:43:22</td>\n",
       "      <td>18:09:38</td>\n",
       "      <td>0.50</td>\n",
       "      <td>Rain, Partially cloudy</td>\n",
       "      <td>Partly cloudy throughout the day with rain.</td>\n",
       "      <td>rain</td>\n",
       "      <td>['RPLC', 'RPLL', 'E0758']</td>\n",
       "    </tr>\n",
       "    <tr>\n",
       "      <th>5217</th>\n",
       "      <td>Quezon City, National Capital Region, Philippines</td>\n",
       "      <td>2025-04-14</td>\n",
       "      <td>35.0</td>\n",
       "      <td>27.9</td>\n",
       "      <td>31.1</td>\n",
       "      <td>41.7</td>\n",
       "      <td>31.6</td>\n",
       "      <td>36.9</td>\n",
       "      <td>24.4</td>\n",
       "      <td>68.5</td>\n",
       "      <td>...</td>\n",
       "      <td>15.6</td>\n",
       "      <td>6.0</td>\n",
       "      <td>30.0</td>\n",
       "      <td>05:42:44</td>\n",
       "      <td>18:09:47</td>\n",
       "      <td>0.54</td>\n",
       "      <td>Rain, Partially cloudy</td>\n",
       "      <td>Partly cloudy throughout the day with storms p...</td>\n",
       "      <td>rain</td>\n",
       "      <td>['RPLC', 'RPLL', 'E0758']</td>\n",
       "    </tr>\n",
       "  </tbody>\n",
       "</table>\n",
       "<p>5 rows × 33 columns</p>\n",
       "</div>"
      ],
      "text/plain": [
       "                                                   name    datetime  tempmax  \\\n",
       "5213  Quezon City, National Capital Region, Philippines  2025-04-10     35.9   \n",
       "5214  Quezon City, National Capital Region, Philippines  2025-04-11     35.0   \n",
       "5215  Quezon City, National Capital Region, Philippines  2025-04-12     35.9   \n",
       "5216  Quezon City, National Capital Region, Philippines  2025-04-13     35.8   \n",
       "5217  Quezon City, National Capital Region, Philippines  2025-04-14     35.0   \n",
       "\n",
       "      tempmin  temp  feelslikemax  feelslikemin  feelslike   dew  humidity  \\\n",
       "5213     26.9  30.8          42.7          29.1       35.1  22.9      64.3   \n",
       "5214     28.8  31.3          41.6          34.0       37.0  24.3      67.3   \n",
       "5215     27.9  31.5          41.7          30.5       36.5  23.5      63.7   \n",
       "5216     28.9  31.2          43.0          34.2       37.5  24.7      69.1   \n",
       "5217     27.9  31.1          41.7          31.6       36.9  24.4      68.5   \n",
       "\n",
       "      ...  solarenergy  uvindex  severerisk              sunrise  \\\n",
       "5213  ...         16.9      6.0        30.0  2025-04-10T05:45:20   \n",
       "5214  ...         14.6      6.0        30.0  2025-04-11T05:44:40   \n",
       "5215  ...         14.1      7.0        30.0             05:44:01   \n",
       "5216  ...         13.0      6.0        30.0             05:43:22   \n",
       "5217  ...         15.6      6.0        30.0             05:42:44   \n",
       "\n",
       "                   sunset  moonphase              conditions  \\\n",
       "5213  2025-04-10T18:09:13       0.40  Rain, Partially cloudy   \n",
       "5214  2025-04-11T18:09:21       0.44  Rain, Partially cloudy   \n",
       "5215             18:09:30       0.47  Rain, Partially cloudy   \n",
       "5216             18:09:38       0.50  Rain, Partially cloudy   \n",
       "5217             18:09:47       0.54  Rain, Partially cloudy   \n",
       "\n",
       "                                            description  icon  \\\n",
       "5213  Partly cloudy throughout the day with late aft...  rain   \n",
       "5214    Clearing in the afternoon with storms possible.  rain   \n",
       "5215  Clearing in the afternoon with late afternoon ...  rain   \n",
       "5216        Partly cloudy throughout the day with rain.  rain   \n",
       "5217  Partly cloudy throughout the day with storms p...  rain   \n",
       "\n",
       "                       stations  \n",
       "5213            RPLC,RPLL,E0758  \n",
       "5214            RPLC,RPLL,E0758  \n",
       "5215  ['RPLC', 'RPLL', 'E0758']  \n",
       "5216  ['RPLC', 'RPLL', 'E0758']  \n",
       "5217  ['RPLC', 'RPLL', 'E0758']  \n",
       "\n",
       "[5 rows x 33 columns]"
      ]
     },
     "execution_count": 5,
     "metadata": {},
     "output_type": "execute_result"
    }
   ],
   "source": [
    "df = pd.read_csv('WeatherData/Quezon City Weather Data.csv')\n",
    "df.tail()"
   ]
  },
  {
   "cell_type": "code",
   "execution_count": 6,
   "id": "6b74a854",
   "metadata": {},
   "outputs": [
    {
     "data": {
      "text/html": [
       "<div>\n",
       "<style scoped>\n",
       "    .dataframe tbody tr th:only-of-type {\n",
       "        vertical-align: middle;\n",
       "    }\n",
       "\n",
       "    .dataframe tbody tr th {\n",
       "        vertical-align: top;\n",
       "    }\n",
       "\n",
       "    .dataframe thead th {\n",
       "        text-align: right;\n",
       "    }\n",
       "</style>\n",
       "<table border=\"1\" class=\"dataframe\">\n",
       "  <thead>\n",
       "    <tr style=\"text-align: right;\">\n",
       "      <th></th>\n",
       "      <th>name</th>\n",
       "      <th>tempmax</th>\n",
       "      <th>tempmin</th>\n",
       "      <th>temp</th>\n",
       "      <th>feelslikemax</th>\n",
       "      <th>feelslikemin</th>\n",
       "      <th>feelslike</th>\n",
       "      <th>dew</th>\n",
       "      <th>humidity</th>\n",
       "      <th>precip</th>\n",
       "      <th>...</th>\n",
       "      <th>solarenergy</th>\n",
       "      <th>uvindex</th>\n",
       "      <th>severerisk</th>\n",
       "      <th>sunrise</th>\n",
       "      <th>sunset</th>\n",
       "      <th>moonphase</th>\n",
       "      <th>conditions</th>\n",
       "      <th>description</th>\n",
       "      <th>icon</th>\n",
       "      <th>stations</th>\n",
       "    </tr>\n",
       "    <tr>\n",
       "      <th>datetime</th>\n",
       "      <th></th>\n",
       "      <th></th>\n",
       "      <th></th>\n",
       "      <th></th>\n",
       "      <th></th>\n",
       "      <th></th>\n",
       "      <th></th>\n",
       "      <th></th>\n",
       "      <th></th>\n",
       "      <th></th>\n",
       "      <th></th>\n",
       "      <th></th>\n",
       "      <th></th>\n",
       "      <th></th>\n",
       "      <th></th>\n",
       "      <th></th>\n",
       "      <th></th>\n",
       "      <th></th>\n",
       "      <th></th>\n",
       "      <th></th>\n",
       "      <th></th>\n",
       "    </tr>\n",
       "  </thead>\n",
       "  <tbody>\n",
       "    <tr>\n",
       "      <th>2025-04-10</th>\n",
       "      <td>Quezon City, National Capital Region, Philippines</td>\n",
       "      <td>35.9</td>\n",
       "      <td>26.9</td>\n",
       "      <td>30.8</td>\n",
       "      <td>42.7</td>\n",
       "      <td>29.1</td>\n",
       "      <td>35.1</td>\n",
       "      <td>22.9</td>\n",
       "      <td>64.3</td>\n",
       "      <td>0.7</td>\n",
       "      <td>...</td>\n",
       "      <td>16.9</td>\n",
       "      <td>6.0</td>\n",
       "      <td>30.0</td>\n",
       "      <td>2025-04-10T05:45:20</td>\n",
       "      <td>2025-04-10T18:09:13</td>\n",
       "      <td>0.40</td>\n",
       "      <td>Rain, Partially cloudy</td>\n",
       "      <td>Partly cloudy throughout the day with late aft...</td>\n",
       "      <td>rain</td>\n",
       "      <td>RPLC,RPLL,E0758</td>\n",
       "    </tr>\n",
       "    <tr>\n",
       "      <th>2025-04-11</th>\n",
       "      <td>Quezon City, National Capital Region, Philippines</td>\n",
       "      <td>35.0</td>\n",
       "      <td>28.8</td>\n",
       "      <td>31.3</td>\n",
       "      <td>41.6</td>\n",
       "      <td>34.0</td>\n",
       "      <td>37.0</td>\n",
       "      <td>24.3</td>\n",
       "      <td>67.3</td>\n",
       "      <td>0.3</td>\n",
       "      <td>...</td>\n",
       "      <td>14.6</td>\n",
       "      <td>6.0</td>\n",
       "      <td>30.0</td>\n",
       "      <td>2025-04-11T05:44:40</td>\n",
       "      <td>2025-04-11T18:09:21</td>\n",
       "      <td>0.44</td>\n",
       "      <td>Rain, Partially cloudy</td>\n",
       "      <td>Clearing in the afternoon with storms possible.</td>\n",
       "      <td>rain</td>\n",
       "      <td>RPLC,RPLL,E0758</td>\n",
       "    </tr>\n",
       "    <tr>\n",
       "      <th>2025-04-12</th>\n",
       "      <td>Quezon City, National Capital Region, Philippines</td>\n",
       "      <td>35.9</td>\n",
       "      <td>27.9</td>\n",
       "      <td>31.5</td>\n",
       "      <td>41.7</td>\n",
       "      <td>30.5</td>\n",
       "      <td>36.5</td>\n",
       "      <td>23.5</td>\n",
       "      <td>63.7</td>\n",
       "      <td>0.1</td>\n",
       "      <td>...</td>\n",
       "      <td>14.1</td>\n",
       "      <td>7.0</td>\n",
       "      <td>30.0</td>\n",
       "      <td>05:44:01</td>\n",
       "      <td>18:09:30</td>\n",
       "      <td>0.47</td>\n",
       "      <td>Rain, Partially cloudy</td>\n",
       "      <td>Clearing in the afternoon with late afternoon ...</td>\n",
       "      <td>rain</td>\n",
       "      <td>['RPLC', 'RPLL', 'E0758']</td>\n",
       "    </tr>\n",
       "    <tr>\n",
       "      <th>2025-04-13</th>\n",
       "      <td>Quezon City, National Capital Region, Philippines</td>\n",
       "      <td>35.8</td>\n",
       "      <td>28.9</td>\n",
       "      <td>31.2</td>\n",
       "      <td>43.0</td>\n",
       "      <td>34.2</td>\n",
       "      <td>37.5</td>\n",
       "      <td>24.7</td>\n",
       "      <td>69.1</td>\n",
       "      <td>4.3</td>\n",
       "      <td>...</td>\n",
       "      <td>13.0</td>\n",
       "      <td>6.0</td>\n",
       "      <td>30.0</td>\n",
       "      <td>05:43:22</td>\n",
       "      <td>18:09:38</td>\n",
       "      <td>0.50</td>\n",
       "      <td>Rain, Partially cloudy</td>\n",
       "      <td>Partly cloudy throughout the day with rain.</td>\n",
       "      <td>rain</td>\n",
       "      <td>['RPLC', 'RPLL', 'E0758']</td>\n",
       "    </tr>\n",
       "    <tr>\n",
       "      <th>2025-04-14</th>\n",
       "      <td>Quezon City, National Capital Region, Philippines</td>\n",
       "      <td>35.0</td>\n",
       "      <td>27.9</td>\n",
       "      <td>31.1</td>\n",
       "      <td>41.7</td>\n",
       "      <td>31.6</td>\n",
       "      <td>36.9</td>\n",
       "      <td>24.4</td>\n",
       "      <td>68.5</td>\n",
       "      <td>1.4</td>\n",
       "      <td>...</td>\n",
       "      <td>15.6</td>\n",
       "      <td>6.0</td>\n",
       "      <td>30.0</td>\n",
       "      <td>05:42:44</td>\n",
       "      <td>18:09:47</td>\n",
       "      <td>0.54</td>\n",
       "      <td>Rain, Partially cloudy</td>\n",
       "      <td>Partly cloudy throughout the day with storms p...</td>\n",
       "      <td>rain</td>\n",
       "      <td>['RPLC', 'RPLL', 'E0758']</td>\n",
       "    </tr>\n",
       "  </tbody>\n",
       "</table>\n",
       "<p>5 rows × 32 columns</p>\n",
       "</div>"
      ],
      "text/plain": [
       "                                                         name  tempmax  \\\n",
       "datetime                                                                 \n",
       "2025-04-10  Quezon City, National Capital Region, Philippines     35.9   \n",
       "2025-04-11  Quezon City, National Capital Region, Philippines     35.0   \n",
       "2025-04-12  Quezon City, National Capital Region, Philippines     35.9   \n",
       "2025-04-13  Quezon City, National Capital Region, Philippines     35.8   \n",
       "2025-04-14  Quezon City, National Capital Region, Philippines     35.0   \n",
       "\n",
       "            tempmin  temp  feelslikemax  feelslikemin  feelslike   dew  \\\n",
       "datetime                                                                 \n",
       "2025-04-10     26.9  30.8          42.7          29.1       35.1  22.9   \n",
       "2025-04-11     28.8  31.3          41.6          34.0       37.0  24.3   \n",
       "2025-04-12     27.9  31.5          41.7          30.5       36.5  23.5   \n",
       "2025-04-13     28.9  31.2          43.0          34.2       37.5  24.7   \n",
       "2025-04-14     27.9  31.1          41.7          31.6       36.9  24.4   \n",
       "\n",
       "            humidity  precip  ...  solarenergy  uvindex severerisk  \\\n",
       "datetime                      ...                                    \n",
       "2025-04-10      64.3     0.7  ...         16.9      6.0       30.0   \n",
       "2025-04-11      67.3     0.3  ...         14.6      6.0       30.0   \n",
       "2025-04-12      63.7     0.1  ...         14.1      7.0       30.0   \n",
       "2025-04-13      69.1     4.3  ...         13.0      6.0       30.0   \n",
       "2025-04-14      68.5     1.4  ...         15.6      6.0       30.0   \n",
       "\n",
       "                        sunrise               sunset  moonphase  \\\n",
       "datetime                                                          \n",
       "2025-04-10  2025-04-10T05:45:20  2025-04-10T18:09:13       0.40   \n",
       "2025-04-11  2025-04-11T05:44:40  2025-04-11T18:09:21       0.44   \n",
       "2025-04-12             05:44:01             18:09:30       0.47   \n",
       "2025-04-13             05:43:22             18:09:38       0.50   \n",
       "2025-04-14             05:42:44             18:09:47       0.54   \n",
       "\n",
       "                        conditions  \\\n",
       "datetime                             \n",
       "2025-04-10  Rain, Partially cloudy   \n",
       "2025-04-11  Rain, Partially cloudy   \n",
       "2025-04-12  Rain, Partially cloudy   \n",
       "2025-04-13  Rain, Partially cloudy   \n",
       "2025-04-14  Rain, Partially cloudy   \n",
       "\n",
       "                                                  description  icon  \\\n",
       "datetime                                                              \n",
       "2025-04-10  Partly cloudy throughout the day with late aft...  rain   \n",
       "2025-04-11    Clearing in the afternoon with storms possible.  rain   \n",
       "2025-04-12  Clearing in the afternoon with late afternoon ...  rain   \n",
       "2025-04-13        Partly cloudy throughout the day with rain.  rain   \n",
       "2025-04-14  Partly cloudy throughout the day with storms p...  rain   \n",
       "\n",
       "                             stations  \n",
       "datetime                               \n",
       "2025-04-10            RPLC,RPLL,E0758  \n",
       "2025-04-11            RPLC,RPLL,E0758  \n",
       "2025-04-12  ['RPLC', 'RPLL', 'E0758']  \n",
       "2025-04-13  ['RPLC', 'RPLL', 'E0758']  \n",
       "2025-04-14  ['RPLC', 'RPLL', 'E0758']  \n",
       "\n",
       "[5 rows x 32 columns]"
      ]
     },
     "execution_count": 6,
     "metadata": {},
     "output_type": "execute_result"
    }
   ],
   "source": [
    "new_df = df.copy()\n",
    "new_df['datetime'] = pd.to_datetime(new_df['datetime'])\n",
    "new_df.set_index('datetime', inplace=True)\n",
    "new_df.tail()"
   ]
  },
  {
   "cell_type": "code",
   "execution_count": 7,
   "id": "9002cd1b",
   "metadata": {},
   "outputs": [
    {
     "data": {
      "text/plain": [
       "DatetimeIndex(['2011-01-01', '2011-01-02', '2011-01-03', '2011-01-04',\n",
       "               '2011-01-05', '2011-01-06', '2011-01-07', '2011-01-08',\n",
       "               '2011-01-09', '2011-01-10',\n",
       "               ...\n",
       "               '2025-04-05', '2025-04-06', '2025-04-07', '2025-04-08',\n",
       "               '2025-04-09', '2025-04-10', '2025-04-11', '2025-04-12',\n",
       "               '2025-04-13', '2025-04-14'],\n",
       "              dtype='datetime64[ns]', name='datetime', length=5218, freq=None)"
      ]
     },
     "execution_count": 7,
     "metadata": {},
     "output_type": "execute_result"
    }
   ],
   "source": [
    "new_df.index"
   ]
  },
  {
   "cell_type": "code",
   "execution_count": 8,
   "id": "f6f93ca1",
   "metadata": {},
   "outputs": [
    {
     "name": "stderr",
     "output_type": "stream",
     "text": [
      "C:\\Users\\User\\AppData\\Local\\Temp\\ipykernel_15420\\3626438343.py:2: FutureWarning: DataFrame.fillna with 'method' is deprecated and will raise in a future version. Use obj.ffill() or obj.bfill() instead.\n",
      "  new_df = new_df.fillna(method='ffill')\n"
     ]
    }
   ],
   "source": [
    "new_df.apply(pd.isnull).sum() / new_df.shape[0]\n",
    "new_df = new_df.fillna(method='ffill')"
   ]
  },
  {
   "cell_type": "code",
   "execution_count": 9,
   "id": "df9984bf",
   "metadata": {},
   "outputs": [
    {
     "data": {
      "text/plain": [
       "name                0.000000\n",
       "tempmax             0.000000\n",
       "tempmin             0.000000\n",
       "temp                0.000000\n",
       "feelslikemax        0.000000\n",
       "feelslikemin        0.000000\n",
       "feelslike           0.000000\n",
       "dew                 0.000000\n",
       "humidity            0.000000\n",
       "precip              0.000000\n",
       "precipprob          0.000000\n",
       "precipcover         0.000000\n",
       "preciptype          0.000000\n",
       "snow                0.279992\n",
       "snowdepth           0.279992\n",
       "windgust            0.000000\n",
       "windspeed           0.000000\n",
       "winddir             0.000000\n",
       "sealevelpressure    0.000000\n",
       "cloudcover          0.000000\n",
       "visibility          0.000000\n",
       "solarradiation      0.000000\n",
       "solarenergy         0.000000\n",
       "uvindex             0.000000\n",
       "severerisk          0.839977\n",
       "sunrise             0.000000\n",
       "sunset              0.000000\n",
       "moonphase           0.000000\n",
       "conditions          0.000000\n",
       "description         0.000000\n",
       "icon                0.000000\n",
       "stations            0.000000\n",
       "dtype: float64"
      ]
     },
     "execution_count": 9,
     "metadata": {},
     "output_type": "execute_result"
    }
   ],
   "source": [
    "new_df.apply(pd.isnull).sum() / new_df.shape[0]"
   ]
  },
  {
   "cell_type": "code",
   "execution_count": 10,
   "id": "2049fed6",
   "metadata": {},
   "outputs": [
    {
     "data": {
      "text/html": [
       "<div>\n",
       "<style scoped>\n",
       "    .dataframe tbody tr th:only-of-type {\n",
       "        vertical-align: middle;\n",
       "    }\n",
       "\n",
       "    .dataframe tbody tr th {\n",
       "        vertical-align: top;\n",
       "    }\n",
       "\n",
       "    .dataframe thead th {\n",
       "        text-align: right;\n",
       "    }\n",
       "</style>\n",
       "<table border=\"1\" class=\"dataframe\">\n",
       "  <thead>\n",
       "    <tr style=\"text-align: right;\">\n",
       "      <th></th>\n",
       "      <th>tempmin</th>\n",
       "      <th>tempmax</th>\n",
       "      <th>temp</th>\n",
       "      <th>humidity</th>\n",
       "      <th>precip</th>\n",
       "      <th>windgust</th>\n",
       "    </tr>\n",
       "    <tr>\n",
       "      <th>datetime</th>\n",
       "      <th></th>\n",
       "      <th></th>\n",
       "      <th></th>\n",
       "      <th></th>\n",
       "      <th></th>\n",
       "      <th></th>\n",
       "    </tr>\n",
       "  </thead>\n",
       "  <tbody>\n",
       "    <tr>\n",
       "      <th>2025-04-10</th>\n",
       "      <td>26.9</td>\n",
       "      <td>35.9</td>\n",
       "      <td>30.8</td>\n",
       "      <td>64.3</td>\n",
       "      <td>0.7</td>\n",
       "      <td>22.3</td>\n",
       "    </tr>\n",
       "    <tr>\n",
       "      <th>2025-04-11</th>\n",
       "      <td>28.8</td>\n",
       "      <td>35.0</td>\n",
       "      <td>31.3</td>\n",
       "      <td>67.3</td>\n",
       "      <td>0.3</td>\n",
       "      <td>18.4</td>\n",
       "    </tr>\n",
       "    <tr>\n",
       "      <th>2025-04-12</th>\n",
       "      <td>27.9</td>\n",
       "      <td>35.9</td>\n",
       "      <td>31.5</td>\n",
       "      <td>63.7</td>\n",
       "      <td>0.1</td>\n",
       "      <td>17.6</td>\n",
       "    </tr>\n",
       "    <tr>\n",
       "      <th>2025-04-13</th>\n",
       "      <td>28.9</td>\n",
       "      <td>35.8</td>\n",
       "      <td>31.2</td>\n",
       "      <td>69.1</td>\n",
       "      <td>4.3</td>\n",
       "      <td>15.1</td>\n",
       "    </tr>\n",
       "    <tr>\n",
       "      <th>2025-04-14</th>\n",
       "      <td>27.9</td>\n",
       "      <td>35.0</td>\n",
       "      <td>31.1</td>\n",
       "      <td>68.5</td>\n",
       "      <td>1.4</td>\n",
       "      <td>18.4</td>\n",
       "    </tr>\n",
       "  </tbody>\n",
       "</table>\n",
       "</div>"
      ],
      "text/plain": [
       "            tempmin  tempmax  temp  humidity  precip  windgust\n",
       "datetime                                                      \n",
       "2025-04-10     26.9     35.9  30.8      64.3     0.7      22.3\n",
       "2025-04-11     28.8     35.0  31.3      67.3     0.3      18.4\n",
       "2025-04-12     27.9     35.9  31.5      63.7     0.1      17.6\n",
       "2025-04-13     28.9     35.8  31.2      69.1     4.3      15.1\n",
       "2025-04-14     27.9     35.0  31.1      68.5     1.4      18.4"
      ]
     },
     "execution_count": 10,
     "metadata": {},
     "output_type": "execute_result"
    }
   ],
   "source": [
    "new_df = new_df[['tempmin', 'tempmax', 'temp', 'humidity', 'precip', 'windgust']].copy()\n",
    "new_df.tail()\n"
   ]
  },
  {
   "cell_type": "code",
   "execution_count": 11,
   "id": "fcac08c5",
   "metadata": {},
   "outputs": [
    {
     "data": {
      "text/plain": [
       "datetime\n",
       "2011-01-01    25.2\n",
       "2011-01-02    25.3\n",
       "2011-01-03    25.7\n",
       "2011-01-04    25.1\n",
       "2011-01-05    25.4\n",
       "              ... \n",
       "2025-04-10    30.8\n",
       "2025-04-11    31.3\n",
       "2025-04-12    31.5\n",
       "2025-04-13    31.2\n",
       "2025-04-14    31.1\n",
       "Name: temp, Length: 5218, dtype: float64"
      ]
     },
     "execution_count": 11,
     "metadata": {},
     "output_type": "execute_result"
    }
   ],
   "source": [
    "temp = new_df['temp']\n",
    "temp"
   ]
  },
  {
   "cell_type": "code",
   "execution_count": 40,
   "id": "12d1e5b6",
   "metadata": {},
   "outputs": [],
   "source": [
    "def df_to_X_y(temp, window_size=7):\n",
    "    cw_as_np = temp.to_numpy()\n",
    "    X = []\n",
    "    y = []\n",
    "    for i in range(len(cw_as_np) - window_size):\n",
    "        row = [[a] for a in cw_as_np[i:i + window_size]]\n",
    "        X.append(row)\n",
    "        label = cw_as_np[i + window_size]\n",
    "        y.append(label)\n",
    "    return np.array(X), np.array(y)"
   ]
  },
  {
   "cell_type": "code",
   "execution_count": 41,
   "id": "b810cd14",
   "metadata": {},
   "outputs": [
    {
     "data": {
      "text/plain": [
       "((5211, 7, 1), (5211,))"
      ]
     },
     "execution_count": 41,
     "metadata": {},
     "output_type": "execute_result"
    }
   ],
   "source": [
    "WINDOW_SIZE = 7;\n",
    "X1, y1 = df_to_X_y(temp, WINDOW_SIZE);\n",
    "X1.shape, y1.shape"
   ]
  },
  {
   "cell_type": "code",
   "execution_count": 42,
   "id": "03d31e61",
   "metadata": {},
   "outputs": [],
   "source": [
    "def get_data_points(X1, y1):\n",
    "    \n",
    "    total_samples = len(X1)\n",
    "    \n",
    "    return total_samples"
   ]
  },
  {
   "cell_type": "code",
   "execution_count": 43,
   "id": "b944791d",
   "metadata": {},
   "outputs": [
    {
     "data": {
      "text/plain": [
       "5211"
      ]
     },
     "execution_count": 43,
     "metadata": {},
     "output_type": "execute_result"
    }
   ],
   "source": [
    "total_samples = get_data_points(X1, y1)\n",
    "total_samples"
   ]
  },
  {
   "cell_type": "code",
   "execution_count": 44,
   "id": "b692923f",
   "metadata": {},
   "outputs": [
    {
     "data": {
      "text/plain": [
       "((5211, 7, 1), (5211,), (5210, 7, 1), (5210,), (0, 7, 1), (0,))"
      ]
     },
     "execution_count": 44,
     "metadata": {},
     "output_type": "execute_result"
    }
   ],
   "source": [
    "X_train1, y_train1 = X1[:total_samples], y1[:total_samples]\n",
    "X_val1, y_val1 = X1[1:total_samples], y1[1:total_samples]\n",
    "X_test1, y_test1 = X1[total_samples:], y1[total_samples:]\n",
    "\n",
    "X_train1.shape, y_train1.shape, X_val1.shape, y_val1.shape, X_test1.shape, y_test1.shape"
   ]
  },
  {
   "cell_type": "code",
   "execution_count": 45,
   "id": "03666954",
   "metadata": {},
   "outputs": [
    {
     "data": {
      "text/html": [
       "<pre style=\"white-space:pre;overflow-x:auto;line-height:normal;font-family:Menlo,'DejaVu Sans Mono',consolas,'Courier New',monospace\"><span style=\"font-weight: bold\">Model: \"sequential_3\"</span>\n",
       "</pre>\n"
      ],
      "text/plain": [
       "\u001b[1mModel: \"sequential_3\"\u001b[0m\n"
      ]
     },
     "metadata": {},
     "output_type": "display_data"
    },
    {
     "data": {
      "text/html": [
       "<pre style=\"white-space:pre;overflow-x:auto;line-height:normal;font-family:Menlo,'DejaVu Sans Mono',consolas,'Courier New',monospace\">┏━━━━━━━━━━━━━━━━━━━━━━━━━━━━━━━━━┳━━━━━━━━━━━━━━━━━━━━━━━━┳━━━━━━━━━━━━━━━┓\n",
       "┃<span style=\"font-weight: bold\"> Layer (type)                    </span>┃<span style=\"font-weight: bold\"> Output Shape           </span>┃<span style=\"font-weight: bold\">       Param # </span>┃\n",
       "┡━━━━━━━━━━━━━━━━━━━━━━━━━━━━━━━━━╇━━━━━━━━━━━━━━━━━━━━━━━━╇━━━━━━━━━━━━━━━┩\n",
       "│ lstm_6 (<span style=\"color: #0087ff; text-decoration-color: #0087ff\">LSTM</span>)                   │ (<span style=\"color: #00d7ff; text-decoration-color: #00d7ff\">None</span>, <span style=\"color: #00af00; text-decoration-color: #00af00\">7</span>, <span style=\"color: #00af00; text-decoration-color: #00af00\">128</span>)         │        <span style=\"color: #00af00; text-decoration-color: #00af00\">66,560</span> │\n",
       "├─────────────────────────────────┼────────────────────────┼───────────────┤\n",
       "│ lstm_7 (<span style=\"color: #0087ff; text-decoration-color: #0087ff\">LSTM</span>)                   │ (<span style=\"color: #00d7ff; text-decoration-color: #00d7ff\">None</span>, <span style=\"color: #00af00; text-decoration-color: #00af00\">128</span>)            │       <span style=\"color: #00af00; text-decoration-color: #00af00\">131,584</span> │\n",
       "├─────────────────────────────────┼────────────────────────┼───────────────┤\n",
       "│ dense_9 (<span style=\"color: #0087ff; text-decoration-color: #0087ff\">Dense</span>)                 │ (<span style=\"color: #00d7ff; text-decoration-color: #00d7ff\">None</span>, <span style=\"color: #00af00; text-decoration-color: #00af00\">64</span>)             │         <span style=\"color: #00af00; text-decoration-color: #00af00\">8,256</span> │\n",
       "├─────────────────────────────────┼────────────────────────┼───────────────┤\n",
       "│ dense_10 (<span style=\"color: #0087ff; text-decoration-color: #0087ff\">Dense</span>)                │ (<span style=\"color: #00d7ff; text-decoration-color: #00d7ff\">None</span>, <span style=\"color: #00af00; text-decoration-color: #00af00\">64</span>)             │         <span style=\"color: #00af00; text-decoration-color: #00af00\">4,160</span> │\n",
       "├─────────────────────────────────┼────────────────────────┼───────────────┤\n",
       "│ dense_11 (<span style=\"color: #0087ff; text-decoration-color: #0087ff\">Dense</span>)                │ (<span style=\"color: #00d7ff; text-decoration-color: #00d7ff\">None</span>, <span style=\"color: #00af00; text-decoration-color: #00af00\">1</span>)              │            <span style=\"color: #00af00; text-decoration-color: #00af00\">65</span> │\n",
       "└─────────────────────────────────┴────────────────────────┴───────────────┘\n",
       "</pre>\n"
      ],
      "text/plain": [
       "┏━━━━━━━━━━━━━━━━━━━━━━━━━━━━━━━━━┳━━━━━━━━━━━━━━━━━━━━━━━━┳━━━━━━━━━━━━━━━┓\n",
       "┃\u001b[1m \u001b[0m\u001b[1mLayer (type)                   \u001b[0m\u001b[1m \u001b[0m┃\u001b[1m \u001b[0m\u001b[1mOutput Shape          \u001b[0m\u001b[1m \u001b[0m┃\u001b[1m \u001b[0m\u001b[1m      Param #\u001b[0m\u001b[1m \u001b[0m┃\n",
       "┡━━━━━━━━━━━━━━━━━━━━━━━━━━━━━━━━━╇━━━━━━━━━━━━━━━━━━━━━━━━╇━━━━━━━━━━━━━━━┩\n",
       "│ lstm_6 (\u001b[38;5;33mLSTM\u001b[0m)                   │ (\u001b[38;5;45mNone\u001b[0m, \u001b[38;5;34m7\u001b[0m, \u001b[38;5;34m128\u001b[0m)         │        \u001b[38;5;34m66,560\u001b[0m │\n",
       "├─────────────────────────────────┼────────────────────────┼───────────────┤\n",
       "│ lstm_7 (\u001b[38;5;33mLSTM\u001b[0m)                   │ (\u001b[38;5;45mNone\u001b[0m, \u001b[38;5;34m128\u001b[0m)            │       \u001b[38;5;34m131,584\u001b[0m │\n",
       "├─────────────────────────────────┼────────────────────────┼───────────────┤\n",
       "│ dense_9 (\u001b[38;5;33mDense\u001b[0m)                 │ (\u001b[38;5;45mNone\u001b[0m, \u001b[38;5;34m64\u001b[0m)             │         \u001b[38;5;34m8,256\u001b[0m │\n",
       "├─────────────────────────────────┼────────────────────────┼───────────────┤\n",
       "│ dense_10 (\u001b[38;5;33mDense\u001b[0m)                │ (\u001b[38;5;45mNone\u001b[0m, \u001b[38;5;34m64\u001b[0m)             │         \u001b[38;5;34m4,160\u001b[0m │\n",
       "├─────────────────────────────────┼────────────────────────┼───────────────┤\n",
       "│ dense_11 (\u001b[38;5;33mDense\u001b[0m)                │ (\u001b[38;5;45mNone\u001b[0m, \u001b[38;5;34m1\u001b[0m)              │            \u001b[38;5;34m65\u001b[0m │\n",
       "└─────────────────────────────────┴────────────────────────┴───────────────┘\n"
      ]
     },
     "metadata": {},
     "output_type": "display_data"
    },
    {
     "data": {
      "text/html": [
       "<pre style=\"white-space:pre;overflow-x:auto;line-height:normal;font-family:Menlo,'DejaVu Sans Mono',consolas,'Courier New',monospace\"><span style=\"font-weight: bold\"> Total params: </span><span style=\"color: #00af00; text-decoration-color: #00af00\">210,625</span> (822.75 KB)\n",
       "</pre>\n"
      ],
      "text/plain": [
       "\u001b[1m Total params: \u001b[0m\u001b[38;5;34m210,625\u001b[0m (822.75 KB)\n"
      ]
     },
     "metadata": {},
     "output_type": "display_data"
    },
    {
     "data": {
      "text/html": [
       "<pre style=\"white-space:pre;overflow-x:auto;line-height:normal;font-family:Menlo,'DejaVu Sans Mono',consolas,'Courier New',monospace\"><span style=\"font-weight: bold\"> Trainable params: </span><span style=\"color: #00af00; text-decoration-color: #00af00\">210,625</span> (822.75 KB)\n",
       "</pre>\n"
      ],
      "text/plain": [
       "\u001b[1m Trainable params: \u001b[0m\u001b[38;5;34m210,625\u001b[0m (822.75 KB)\n"
      ]
     },
     "metadata": {},
     "output_type": "display_data"
    },
    {
     "data": {
      "text/html": [
       "<pre style=\"white-space:pre;overflow-x:auto;line-height:normal;font-family:Menlo,'DejaVu Sans Mono',consolas,'Courier New',monospace\"><span style=\"font-weight: bold\"> Non-trainable params: </span><span style=\"color: #00af00; text-decoration-color: #00af00\">0</span> (0.00 B)\n",
       "</pre>\n"
      ],
      "text/plain": [
       "\u001b[1m Non-trainable params: \u001b[0m\u001b[38;5;34m0\u001b[0m (0.00 B)\n"
      ]
     },
     "metadata": {},
     "output_type": "display_data"
    }
   ],
   "source": [
    "model = Sequential([\n",
    "    InputLayer((WINDOW_SIZE, 1)),\n",
    "    LSTM(128, return_sequences=True),\n",
    "    LSTM(128, return_sequences=False),\n",
    "    Dense(64, 'relu'),\n",
    "    Dense(64, 'relu'),\n",
    "    Dense(1, 'linear')\n",
    "])\n",
    "\n",
    "model.summary()"
   ]
  },
  {
   "cell_type": "code",
   "execution_count": 46,
   "id": "aff0e7f1",
   "metadata": {},
   "outputs": [
    {
     "name": "stdout",
     "output_type": "stream",
     "text": [
      "Saving as : weatherModels/model13.keras\n"
     ]
    }
   ],
   "source": [
    "import os\n",
    "\n",
    "folder_path = \"weatherModels\"\n",
    "if not os.path.exists(folder_path):\n",
    "    os.makedirs(folder_path)\n",
    "\n",
    "model_count = len([name for name in os.listdir(folder_path) if name.startswith('model')])\n",
    "\n",
    "model_name = f\"{folder_path}/model{model_count + 1}.keras\"\n",
    "print(f\"Saving as : {model_name}\")"
   ]
  },
  {
   "cell_type": "code",
   "execution_count": 47,
   "id": "cef9fddb",
   "metadata": {},
   "outputs": [],
   "source": [
    "from tensorflow.keras.callbacks import EarlyStopping, ModelCheckpoint\n",
    "\n",
    "early_stopping = EarlyStopping(monitor='val_loss', patience=10, restore_best_weights=True)\n",
    "cp1 = ModelCheckpoint(model_name, save_best_only=True, monitor='val_loss', mode='min')\n",
    "model.compile(loss='mean_squared_error', optimizer=Adam(learning_rate=0.001), metrics=[RootMeanSquaredError()])"
   ]
  },
  {
   "cell_type": "code",
   "execution_count": 48,
   "id": "bb03a01f",
   "metadata": {},
   "outputs": [
    {
     "name": "stdout",
     "output_type": "stream",
     "text": [
      "Epoch 1/25\n"
     ]
    },
    {
     "name": "stdout",
     "output_type": "stream",
     "text": [
      "\u001b[1m174/174\u001b[0m \u001b[32m━━━━━━━━━━━━━━━━━━━━\u001b[0m\u001b[37m\u001b[0m \u001b[1m14s\u001b[0m 40ms/step - loss: 212.9634 - root_mean_squared_error: 13.4769 - val_loss: 2.2438 - val_root_mean_squared_error: 1.4979\n",
      "Epoch 2/25\n",
      "\u001b[1m174/174\u001b[0m \u001b[32m━━━━━━━━━━━━━━━━━━━━\u001b[0m\u001b[37m\u001b[0m \u001b[1m6s\u001b[0m 36ms/step - loss: 2.2165 - root_mean_squared_error: 1.4878 - val_loss: 2.2692 - val_root_mean_squared_error: 1.5064\n",
      "Epoch 3/25\n",
      "\u001b[1m174/174\u001b[0m \u001b[32m━━━━━━━━━━━━━━━━━━━━\u001b[0m\u001b[37m\u001b[0m \u001b[1m7s\u001b[0m 39ms/step - loss: 2.2324 - root_mean_squared_error: 1.4938 - val_loss: 2.2298 - val_root_mean_squared_error: 1.4932\n",
      "Epoch 4/25\n",
      "\u001b[1m174/174\u001b[0m \u001b[32m━━━━━━━━━━━━━━━━━━━━\u001b[0m\u001b[37m\u001b[0m \u001b[1m7s\u001b[0m 39ms/step - loss: 2.2114 - root_mean_squared_error: 1.4868 - val_loss: 1.7437 - val_root_mean_squared_error: 1.3205\n",
      "Epoch 5/25\n",
      "\u001b[1m174/174\u001b[0m \u001b[32m━━━━━━━━━━━━━━━━━━━━\u001b[0m\u001b[37m\u001b[0m \u001b[1m7s\u001b[0m 38ms/step - loss: 1.5194 - root_mean_squared_error: 1.2313 - val_loss: 0.9321 - val_root_mean_squared_error: 0.9654\n",
      "Epoch 6/25\n",
      "\u001b[1m174/174\u001b[0m \u001b[32m━━━━━━━━━━━━━━━━━━━━\u001b[0m\u001b[37m\u001b[0m \u001b[1m6s\u001b[0m 35ms/step - loss: 0.9278 - root_mean_squared_error: 0.9626 - val_loss: 0.8116 - val_root_mean_squared_error: 0.9009\n",
      "Epoch 7/25\n",
      "\u001b[1m174/174\u001b[0m \u001b[32m━━━━━━━━━━━━━━━━━━━━\u001b[0m\u001b[37m\u001b[0m \u001b[1m6s\u001b[0m 32ms/step - loss: 0.8491 - root_mean_squared_error: 0.9212 - val_loss: 0.8358 - val_root_mean_squared_error: 0.9142\n",
      "Epoch 8/25\n",
      "\u001b[1m174/174\u001b[0m \u001b[32m━━━━━━━━━━━━━━━━━━━━\u001b[0m\u001b[37m\u001b[0m \u001b[1m7s\u001b[0m 39ms/step - loss: 0.8742 - root_mean_squared_error: 0.9348 - val_loss: 0.8420 - val_root_mean_squared_error: 0.9176\n",
      "Epoch 9/25\n",
      "\u001b[1m174/174\u001b[0m \u001b[32m━━━━━━━━━━━━━━━━━━━━\u001b[0m\u001b[37m\u001b[0m \u001b[1m6s\u001b[0m 32ms/step - loss: 0.7797 - root_mean_squared_error: 0.8829 - val_loss: 0.8302 - val_root_mean_squared_error: 0.9112\n",
      "Epoch 10/25\n",
      "\u001b[1m174/174\u001b[0m \u001b[32m━━━━━━━━━━━━━━━━━━━━\u001b[0m\u001b[37m\u001b[0m \u001b[1m8s\u001b[0m 45ms/step - loss: 0.7056 - root_mean_squared_error: 0.8399 - val_loss: 0.6569 - val_root_mean_squared_error: 0.8105\n",
      "Epoch 11/25\n",
      "\u001b[1m174/174\u001b[0m \u001b[32m━━━━━━━━━━━━━━━━━━━━\u001b[0m\u001b[37m\u001b[0m \u001b[1m10s\u001b[0m 55ms/step - loss: 0.7071 - root_mean_squared_error: 0.8407 - val_loss: 0.6098 - val_root_mean_squared_error: 0.7809\n",
      "Epoch 12/25\n",
      "\u001b[1m174/174\u001b[0m \u001b[32m━━━━━━━━━━━━━━━━━━━━\u001b[0m\u001b[37m\u001b[0m \u001b[1m9s\u001b[0m 53ms/step - loss: 0.6619 - root_mean_squared_error: 0.8130 - val_loss: 0.6027 - val_root_mean_squared_error: 0.7764\n",
      "Epoch 13/25\n",
      "\u001b[1m174/174\u001b[0m \u001b[32m━━━━━━━━━━━━━━━━━━━━\u001b[0m\u001b[37m\u001b[0m \u001b[1m11s\u001b[0m 59ms/step - loss: 0.7285 - root_mean_squared_error: 0.8531 - val_loss: 0.5906 - val_root_mean_squared_error: 0.7685\n",
      "Epoch 14/25\n",
      "\u001b[1m174/174\u001b[0m \u001b[32m━━━━━━━━━━━━━━━━━━━━\u001b[0m\u001b[37m\u001b[0m \u001b[1m7s\u001b[0m 42ms/step - loss: 0.6606 - root_mean_squared_error: 0.8127 - val_loss: 0.6943 - val_root_mean_squared_error: 0.8333\n",
      "Epoch 15/25\n",
      "\u001b[1m174/174\u001b[0m \u001b[32m━━━━━━━━━━━━━━━━━━━━\u001b[0m\u001b[37m\u001b[0m \u001b[1m6s\u001b[0m 37ms/step - loss: 0.6963 - root_mean_squared_error: 0.8344 - val_loss: 0.6037 - val_root_mean_squared_error: 0.7770\n",
      "Epoch 16/25\n",
      "\u001b[1m174/174\u001b[0m \u001b[32m━━━━━━━━━━━━━━━━━━━━\u001b[0m\u001b[37m\u001b[0m \u001b[1m4s\u001b[0m 21ms/step - loss: 0.6891 - root_mean_squared_error: 0.8297 - val_loss: 0.6104 - val_root_mean_squared_error: 0.7813\n",
      "Epoch 17/25\n",
      "\u001b[1m174/174\u001b[0m \u001b[32m━━━━━━━━━━━━━━━━━━━━\u001b[0m\u001b[37m\u001b[0m \u001b[1m7s\u001b[0m 38ms/step - loss: 0.6234 - root_mean_squared_error: 0.7893 - val_loss: 0.6516 - val_root_mean_squared_error: 0.8072\n",
      "Epoch 18/25\n",
      "\u001b[1m174/174\u001b[0m \u001b[32m━━━━━━━━━━━━━━━━━━━━\u001b[0m\u001b[37m\u001b[0m \u001b[1m7s\u001b[0m 40ms/step - loss: 0.6535 - root_mean_squared_error: 0.8083 - val_loss: 0.5802 - val_root_mean_squared_error: 0.7617\n",
      "Epoch 19/25\n",
      "\u001b[1m174/174\u001b[0m \u001b[32m━━━━━━━━━━━━━━━━━━━━\u001b[0m\u001b[37m\u001b[0m \u001b[1m6s\u001b[0m 37ms/step - loss: 0.5997 - root_mean_squared_error: 0.7741 - val_loss: 0.6409 - val_root_mean_squared_error: 0.8005\n",
      "Epoch 20/25\n",
      "\u001b[1m174/174\u001b[0m \u001b[32m━━━━━━━━━━━━━━━━━━━━\u001b[0m\u001b[37m\u001b[0m \u001b[1m6s\u001b[0m 37ms/step - loss: 0.6385 - root_mean_squared_error: 0.7988 - val_loss: 0.6886 - val_root_mean_squared_error: 0.8298\n",
      "Epoch 21/25\n",
      "\u001b[1m174/174\u001b[0m \u001b[32m━━━━━━━━━━━━━━━━━━━━\u001b[0m\u001b[37m\u001b[0m \u001b[1m6s\u001b[0m 35ms/step - loss: 0.6685 - root_mean_squared_error: 0.8175 - val_loss: 0.9641 - val_root_mean_squared_error: 0.9819\n",
      "Epoch 22/25\n",
      "\u001b[1m174/174\u001b[0m \u001b[32m━━━━━━━━━━━━━━━━━━━━\u001b[0m\u001b[37m\u001b[0m \u001b[1m6s\u001b[0m 32ms/step - loss: 0.6249 - root_mean_squared_error: 0.7899 - val_loss: 0.6786 - val_root_mean_squared_error: 0.8238\n",
      "Epoch 23/25\n",
      "\u001b[1m174/174\u001b[0m \u001b[32m━━━━━━━━━━━━━━━━━━━━\u001b[0m\u001b[37m\u001b[0m \u001b[1m6s\u001b[0m 31ms/step - loss: 0.6554 - root_mean_squared_error: 0.8093 - val_loss: 0.5916 - val_root_mean_squared_error: 0.7691\n",
      "Epoch 24/25\n",
      "\u001b[1m174/174\u001b[0m \u001b[32m━━━━━━━━━━━━━━━━━━━━\u001b[0m\u001b[37m\u001b[0m \u001b[1m7s\u001b[0m 38ms/step - loss: 0.6209 - root_mean_squared_error: 0.7879 - val_loss: 0.7280 - val_root_mean_squared_error: 0.8532\n",
      "Epoch 25/25\n",
      "\u001b[1m174/174\u001b[0m \u001b[32m━━━━━━━━━━━━━━━━━━━━\u001b[0m\u001b[37m\u001b[0m \u001b[1m8s\u001b[0m 44ms/step - loss: 0.6457 - root_mean_squared_error: 0.8033 - val_loss: 0.5803 - val_root_mean_squared_error: 0.7618\n"
     ]
    },
    {
     "data": {
      "text/plain": [
       "<keras.src.callbacks.history.History at 0x2871b0d2a90>"
      ]
     },
     "execution_count": 48,
     "metadata": {},
     "output_type": "execute_result"
    }
   ],
   "source": [
    "model.fit(X_train1, y_train1, validation_data=(X_val1, y_val1), epochs=25 ,batch_size=30, callbacks=[cp1, early_stopping])"
   ]
  },
  {
   "cell_type": "code",
   "execution_count": 27,
   "id": "c61a410b",
   "metadata": {},
   "outputs": [],
   "source": [
    "from tensorflow.keras.models import load_model\n",
    "qc_model = load_model('weatherModels/model6.keras')"
   ]
  },
  {
   "cell_type": "code",
   "execution_count": 31,
   "id": "3f86baed",
   "metadata": {},
   "outputs": [
    {
     "name": "stdout",
     "output_type": "stream",
     "text": [
      "\u001b[1m163/163\u001b[0m \u001b[32m━━━━━━━━━━━━━━━━━━━━\u001b[0m\u001b[37m\u001b[0m \u001b[1m2s\u001b[0m 13ms/step\n",
      "(5198, 1)\n",
      "-------------------\n"
     ]
    },
    {
     "data": {
      "text/plain": [
       "(5198, 7)"
      ]
     },
     "execution_count": 31,
     "metadata": {},
     "output_type": "execute_result"
    }
   ],
   "source": [
    "train_predictions = qc_model.predict(X_train1)\n",
    "print(train_predictions.shape)\n",
    "print('-------------------')\n",
    "y_train1.shape"
   ]
  },
  {
   "cell_type": "code",
   "execution_count": 28,
   "id": "32383ba1",
   "metadata": {},
   "outputs": [
    {
     "name": "stdout",
     "output_type": "stream",
     "text": [
      "\u001b[1m163/163\u001b[0m \u001b[32m━━━━━━━━━━━━━━━━━━━━\u001b[0m\u001b[37m\u001b[0m \u001b[1m4s\u001b[0m 19ms/step\n"
     ]
    },
    {
     "ename": "ValueError",
     "evalue": "Per-column arrays must each be 1-dimensional",
     "output_type": "error",
     "traceback": [
      "\u001b[31m---------------------------------------------------------------------------\u001b[39m",
      "\u001b[31mValueError\u001b[39m                                Traceback (most recent call last)",
      "\u001b[36mCell\u001b[39m\u001b[36m \u001b[39m\u001b[32mIn[28]\u001b[39m\u001b[32m, line 3\u001b[39m\n\u001b[32m      1\u001b[39m train_predictions = qc_model.predict(X_train1)\n\u001b[32m      2\u001b[39m train_predictions = train_predictions.flatten()\n\u001b[32m----> \u001b[39m\u001b[32m3\u001b[39m train_results = \u001b[43mpd\u001b[49m\u001b[43m.\u001b[49m\u001b[43mDataFrame\u001b[49m\u001b[43m(\u001b[49m\u001b[43mdata\u001b[49m\u001b[43m=\u001b[49m\u001b[43m{\u001b[49m\u001b[33;43m'\u001b[39;49m\u001b[33;43mTrain Predictions\u001b[39;49m\u001b[33;43m'\u001b[39;49m\u001b[43m:\u001b[49m\u001b[43m \u001b[49m\u001b[43mtrain_predictions\u001b[49m\u001b[43m,\u001b[49m\u001b[43m \u001b[49m\u001b[33;43m'\u001b[39;49m\u001b[33;43mTrain Actual\u001b[39;49m\u001b[33;43m'\u001b[39;49m\u001b[43m:\u001b[49m\u001b[43m \u001b[49m\u001b[43my_train1\u001b[49m\u001b[43m}\u001b[49m\u001b[43m)\u001b[49m\n\u001b[32m      5\u001b[39m \u001b[38;5;28;01mimport\u001b[39;00m\u001b[38;5;250m \u001b[39m\u001b[34;01mmatplotlib\u001b[39;00m\u001b[34;01m.\u001b[39;00m\u001b[34;01mpyplot\u001b[39;00m\u001b[38;5;250m \u001b[39m\u001b[38;5;28;01mas\u001b[39;00m\u001b[38;5;250m \u001b[39m\u001b[34;01mplt\u001b[39;00m\n\u001b[32m      7\u001b[39m plt.plot(train_results[\u001b[33m'\u001b[39m\u001b[33mTrain Predictions\u001b[39m\u001b[33m'\u001b[39m][\u001b[32m5000\u001b[39m:\u001b[32m5220\u001b[39m], label=\u001b[33m'\u001b[39m\u001b[33mTrain Predictions\u001b[39m\u001b[33m'\u001b[39m)\n",
      "\u001b[36mFile \u001b[39m\u001b[32mc:\\Users\\User\\Desktop\\ForeLastDataTraining\\venv\\Lib\\site-packages\\pandas\\core\\frame.py:778\u001b[39m, in \u001b[36mDataFrame.__init__\u001b[39m\u001b[34m(self, data, index, columns, dtype, copy)\u001b[39m\n\u001b[32m    772\u001b[39m     mgr = \u001b[38;5;28mself\u001b[39m._init_mgr(\n\u001b[32m    773\u001b[39m         data, axes={\u001b[33m\"\u001b[39m\u001b[33mindex\u001b[39m\u001b[33m\"\u001b[39m: index, \u001b[33m\"\u001b[39m\u001b[33mcolumns\u001b[39m\u001b[33m\"\u001b[39m: columns}, dtype=dtype, copy=copy\n\u001b[32m    774\u001b[39m     )\n\u001b[32m    776\u001b[39m \u001b[38;5;28;01melif\u001b[39;00m \u001b[38;5;28misinstance\u001b[39m(data, \u001b[38;5;28mdict\u001b[39m):\n\u001b[32m    777\u001b[39m     \u001b[38;5;66;03m# GH#38939 de facto copy defaults to False only in non-dict cases\u001b[39;00m\n\u001b[32m--> \u001b[39m\u001b[32m778\u001b[39m     mgr = \u001b[43mdict_to_mgr\u001b[49m\u001b[43m(\u001b[49m\u001b[43mdata\u001b[49m\u001b[43m,\u001b[49m\u001b[43m \u001b[49m\u001b[43mindex\u001b[49m\u001b[43m,\u001b[49m\u001b[43m \u001b[49m\u001b[43mcolumns\u001b[49m\u001b[43m,\u001b[49m\u001b[43m \u001b[49m\u001b[43mdtype\u001b[49m\u001b[43m=\u001b[49m\u001b[43mdtype\u001b[49m\u001b[43m,\u001b[49m\u001b[43m \u001b[49m\u001b[43mcopy\u001b[49m\u001b[43m=\u001b[49m\u001b[43mcopy\u001b[49m\u001b[43m,\u001b[49m\u001b[43m \u001b[49m\u001b[43mtyp\u001b[49m\u001b[43m=\u001b[49m\u001b[43mmanager\u001b[49m\u001b[43m)\u001b[49m\n\u001b[32m    779\u001b[39m \u001b[38;5;28;01melif\u001b[39;00m \u001b[38;5;28misinstance\u001b[39m(data, ma.MaskedArray):\n\u001b[32m    780\u001b[39m     \u001b[38;5;28;01mfrom\u001b[39;00m\u001b[38;5;250m \u001b[39m\u001b[34;01mnumpy\u001b[39;00m\u001b[34;01m.\u001b[39;00m\u001b[34;01mma\u001b[39;00m\u001b[38;5;250m \u001b[39m\u001b[38;5;28;01mimport\u001b[39;00m mrecords\n",
      "\u001b[36mFile \u001b[39m\u001b[32mc:\\Users\\User\\Desktop\\ForeLastDataTraining\\venv\\Lib\\site-packages\\pandas\\core\\internals\\construction.py:503\u001b[39m, in \u001b[36mdict_to_mgr\u001b[39m\u001b[34m(data, index, columns, dtype, typ, copy)\u001b[39m\n\u001b[32m    499\u001b[39m     \u001b[38;5;28;01melse\u001b[39;00m:\n\u001b[32m    500\u001b[39m         \u001b[38;5;66;03m# dtype check to exclude e.g. range objects, scalars\u001b[39;00m\n\u001b[32m    501\u001b[39m         arrays = [x.copy() \u001b[38;5;28;01mif\u001b[39;00m \u001b[38;5;28mhasattr\u001b[39m(x, \u001b[33m\"\u001b[39m\u001b[33mdtype\u001b[39m\u001b[33m\"\u001b[39m) \u001b[38;5;28;01melse\u001b[39;00m x \u001b[38;5;28;01mfor\u001b[39;00m x \u001b[38;5;129;01min\u001b[39;00m arrays]\n\u001b[32m--> \u001b[39m\u001b[32m503\u001b[39m \u001b[38;5;28;01mreturn\u001b[39;00m \u001b[43marrays_to_mgr\u001b[49m\u001b[43m(\u001b[49m\u001b[43marrays\u001b[49m\u001b[43m,\u001b[49m\u001b[43m \u001b[49m\u001b[43mcolumns\u001b[49m\u001b[43m,\u001b[49m\u001b[43m \u001b[49m\u001b[43mindex\u001b[49m\u001b[43m,\u001b[49m\u001b[43m \u001b[49m\u001b[43mdtype\u001b[49m\u001b[43m=\u001b[49m\u001b[43mdtype\u001b[49m\u001b[43m,\u001b[49m\u001b[43m \u001b[49m\u001b[43mtyp\u001b[49m\u001b[43m=\u001b[49m\u001b[43mtyp\u001b[49m\u001b[43m,\u001b[49m\u001b[43m \u001b[49m\u001b[43mconsolidate\u001b[49m\u001b[43m=\u001b[49m\u001b[43mcopy\u001b[49m\u001b[43m)\u001b[49m\n",
      "\u001b[36mFile \u001b[39m\u001b[32mc:\\Users\\User\\Desktop\\ForeLastDataTraining\\venv\\Lib\\site-packages\\pandas\\core\\internals\\construction.py:114\u001b[39m, in \u001b[36marrays_to_mgr\u001b[39m\u001b[34m(arrays, columns, index, dtype, verify_integrity, typ, consolidate)\u001b[39m\n\u001b[32m    111\u001b[39m \u001b[38;5;28;01mif\u001b[39;00m verify_integrity:\n\u001b[32m    112\u001b[39m     \u001b[38;5;66;03m# figure out the index, if necessary\u001b[39;00m\n\u001b[32m    113\u001b[39m     \u001b[38;5;28;01mif\u001b[39;00m index \u001b[38;5;129;01mis\u001b[39;00m \u001b[38;5;28;01mNone\u001b[39;00m:\n\u001b[32m--> \u001b[39m\u001b[32m114\u001b[39m         index = \u001b[43m_extract_index\u001b[49m\u001b[43m(\u001b[49m\u001b[43marrays\u001b[49m\u001b[43m)\u001b[49m\n\u001b[32m    115\u001b[39m     \u001b[38;5;28;01melse\u001b[39;00m:\n\u001b[32m    116\u001b[39m         index = ensure_index(index)\n",
      "\u001b[36mFile \u001b[39m\u001b[32mc:\\Users\\User\\Desktop\\ForeLastDataTraining\\venv\\Lib\\site-packages\\pandas\\core\\internals\\construction.py:664\u001b[39m, in \u001b[36m_extract_index\u001b[39m\u001b[34m(data)\u001b[39m\n\u001b[32m    662\u001b[39m         raw_lengths.append(\u001b[38;5;28mlen\u001b[39m(val))\n\u001b[32m    663\u001b[39m     \u001b[38;5;28;01melif\u001b[39;00m \u001b[38;5;28misinstance\u001b[39m(val, np.ndarray) \u001b[38;5;129;01mand\u001b[39;00m val.ndim > \u001b[32m1\u001b[39m:\n\u001b[32m--> \u001b[39m\u001b[32m664\u001b[39m         \u001b[38;5;28;01mraise\u001b[39;00m \u001b[38;5;167;01mValueError\u001b[39;00m(\u001b[33m\"\u001b[39m\u001b[33mPer-column arrays must each be 1-dimensional\u001b[39m\u001b[33m\"\u001b[39m)\n\u001b[32m    666\u001b[39m \u001b[38;5;28;01mif\u001b[39;00m \u001b[38;5;129;01mnot\u001b[39;00m indexes \u001b[38;5;129;01mand\u001b[39;00m \u001b[38;5;129;01mnot\u001b[39;00m raw_lengths:\n\u001b[32m    667\u001b[39m     \u001b[38;5;28;01mraise\u001b[39;00m \u001b[38;5;167;01mValueError\u001b[39;00m(\u001b[33m\"\u001b[39m\u001b[33mIf using all scalar values, you must pass an index\u001b[39m\u001b[33m\"\u001b[39m)\n",
      "\u001b[31mValueError\u001b[39m: Per-column arrays must each be 1-dimensional"
     ]
    }
   ],
   "source": [
    "train_predictions = qc_model.predict(X_train1)\n",
    "train_predictions = train_predictions.flatten()\n",
    "train_results = pd.DataFrame(data={'Train Predictions': train_predictions, 'Train Actual': y_train1})\n",
    "\n",
    "import matplotlib.pyplot as plt\n",
    "\n",
    "plt.plot(train_results['Train Predictions'][5000:5220], label='Train Predictions')\n",
    "plt.plot(train_results['Train Actual'][5000:5220], label='Train Actual')\n",
    "plt.legend\n",
    "plt.show()"
   ]
  },
  {
   "cell_type": "code",
   "execution_count": 26,
   "id": "94d63c9e",
   "metadata": {},
   "outputs": [
    {
     "name": "stdout",
     "output_type": "stream",
     "text": [
      "5100    25.826571\n",
      "5101    25.503643\n",
      "5102    26.649643\n",
      "5103    27.095726\n",
      "5104    25.999601\n",
      "          ...    \n",
      "5206    30.558043\n",
      "5207    30.463074\n",
      "5208    30.820345\n",
      "5209    30.968700\n",
      "5210    30.852684\n",
      "Name: Train Predictions, Length: 111, dtype: float32\n",
      "5100    24.5\n",
      "5101    26.8\n",
      "5102    27.3\n",
      "5103    25.5\n",
      "5104    25.1\n",
      "        ... \n",
      "5206    30.8\n",
      "5207    31.3\n",
      "5208    31.5\n",
      "5209    31.2\n",
      "5210    30.9\n",
      "Name: Train Actual, Length: 111, dtype: float64\n"
     ]
    },
    {
     "data": {
      "text/plain": [
       "Train Predictions    5211\n",
       "Train Actual         5211\n",
       "dtype: int64"
      ]
     },
     "execution_count": 26,
     "metadata": {},
     "output_type": "execute_result"
    }
   ],
   "source": [
    "print(train_results['Train Predictions'][5100:5217])\n",
    "print(train_results['Train Actual'][5100:5217])\n",
    "train_results.count()"
   ]
  },
  {
   "cell_type": "code",
   "execution_count": 28,
   "id": "d6640a7a",
   "metadata": {},
   "outputs": [],
   "source": [
    "from sklearn.metrics import mean_squared_error as mse;\n",
    "\n",
    "def plot_predictions(model, X, y, start=0, end=100):\n",
    "    preds = model.predict(X)\n",
    "    preds = preds.flatten()\n",
    "    df = pd.DataFrame(data={'Predictions': preds, 'Actuals': y})\n",
    "    plt.plot(df['Predictions'][start:end])\n",
    "    plt.plot(df['Actuals'][start:end])\n",
    "    return df, mse(y, preds)"
   ]
  },
  {
   "cell_type": "code",
   "execution_count": 31,
   "id": "a87486b0",
   "metadata": {},
   "outputs": [
    {
     "name": "stdout",
     "output_type": "stream",
     "text": [
      "\u001b[1m163/163\u001b[0m \u001b[32m━━━━━━━━━━━━━━━━━━━━\u001b[0m\u001b[37m\u001b[0m \u001b[1m2s\u001b[0m 9ms/step\n"
     ]
    },
    {
     "data": {
      "text/plain": [
       "(      Predictions  Actuals\n",
       " 0       26.318769     26.3\n",
       " 1       26.427774     24.9\n",
       " 2       25.668541     25.9\n",
       " 3       26.113712     25.9\n",
       " 4       26.134872     25.7\n",
       " ...           ...      ...\n",
       " 5206    30.558043     30.8\n",
       " 5207    30.463074     31.3\n",
       " 5208    30.820345     31.5\n",
       " 5209    30.968700     31.2\n",
       " 5210    30.852684     30.9\n",
       " \n",
       " [5211 rows x 2 columns],\n",
       " 0.5712646968241694)"
      ]
     },
     "execution_count": 31,
     "metadata": {},
     "output_type": "execute_result"
    },
    {
     "data": {
      "image/png": "[encoded data removed]",
      "text/plain": [
       "<Figure size 640x480 with 1 Axes>"
      ]
     },
     "metadata": {},
     "output_type": "display_data"
    }
   ],
   "source": [
    "plot_predictions(qc_model, X_train1, y_train1)"
   ]
  },
  {
   "cell_type": "code",
   "execution_count": null,
   "id": "5a1d8ba1",
   "metadata": {},
   "outputs": [],
   "source": []
  }
 ],
 "metadata": {
  "kernelspec": {
   "display_name": "venv",
   "language": "python",
   "name": "python3"
  },
  "language_info": {
   "codemirror_mode": {
    "name": "ipython",
    "version": 3
   },
   "file_extension": ".py",
   "mimetype": "text/x-python",
   "name": "python",
   "nbconvert_exporter": "python",
   "pygments_lexer": "ipython3",
   "version": "3.11.0"
  }
 },
 "nbformat": 4,
 "nbformat_minor": 5
}
